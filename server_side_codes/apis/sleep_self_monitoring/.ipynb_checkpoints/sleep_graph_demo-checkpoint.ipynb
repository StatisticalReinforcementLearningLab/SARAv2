{
 "cells": [
  {
   "cell_type": "code",
   "execution_count": 1,
   "metadata": {},
   "outputs": [],
   "source": [
    "import altair as alt\n",
    "import pandas as pd"
   ]
  },
  {
   "cell_type": "code",
   "execution_count": 2,
   "metadata": {},
   "outputs": [],
   "source": [
    "sleep_data = [\n",
    "    {\"date\": \"Today\", \"start\": 0, \"end\": 0, \"total_sleep_hours\": \"\"},\n",
    "    {\"date\": \"08-07\", \"start\": 0, \"end\": 0, \"total_sleep_hours\": \"\"},\n",
    "    {\"date\": \"08-06\", \"start\": 0, \"end\": 0, \"total_sleep_hours\": \"\"},\n",
    "    {\"date\": \"08-05\", \"start\": 0, \"end\": 0, \"total_sleep_hours\": \"\"},\n",
    "    {\"date\": \"08-04\", \"start\": 0, \"end\": 0, \"total_sleep_hours\": \"\"},\n",
    "    {\"date\": \"08-03\", \"start\": 0, \"end\": 0, \"total_sleep_hours\": \"\"},\n",
    "    {\"date\": \"08-02\", \"start\": 0, \"end\": 0, \"total_sleep_hours\": \"\"},\n",
    "    {\"date\": \"08-01\", \"start\": 5.5, \"end\": 15.0, \"total_sleep_hours\": \"9.5\"},\n",
    "    {\"date\": \"07-31\", \"start\": 6.5, \"end\": 13.0, \"total_sleep_hours\": \"6.5\"},\n",
    "    {\"date\": \"07-30\", \"start\": 0, \"end\": 0, \"total_sleep_hours\": \"\"},\n",
    "    {\"date\": \"07-29\", \"start\": 0, \"end\": 0, \"total_sleep_hours\": \"\"},\n",
    "    {\"date\": \"07-28\", \"start\": 0, \"end\": 0, \"total_sleep_hours\": \"\"},\n",
    "    {\"date\": \"07-27\", \"start\": 0, \"end\": 0, \"total_sleep_hours\": \"\"},\n",
    "    {\"date\": \"07-26\", \"start\": 0, \"end\": 0, \"total_sleep_hours\": \"\"},\n",
    "]\n"
   ]
  },
  {
   "cell_type": "code",
   "execution_count": 3,
   "metadata": {},
   "outputs": [],
   "source": [
    "def conv_table_hour_label_to_ylabels():\n",
    "    \"\"\"\n",
    "    Helper function to return the current mapping of hour labels and corresponding y labels in the graph.\n",
    "    We call this function to keep a consistent copy of the hour label mapping to y axis label in the graph.\n",
    "\n",
    "    returns:\n",
    "        hour_label: hour labels in am and pm\n",
    "        y_labels: mapping in the y axis label for the chart\n",
    "    \"\"\"\n",
    "\n",
    "    # note our conversion starategy is the following:\n",
    "    # copied from previous function. Make it a variable.\n",
    "    hour_labels = [\"8p\", \"9p\", \"10p\", \"11p\", \"12a\", \"1a\", \"2a\", \"3a\", \"4a\", \"5a\", \"6a\", \"7a\", \"8a\", \"9a\", \"10a\", \"11a\", \"12p\", \"1p\", \"2p\"]\n",
    "    y_labels    = [   0,    1,     2,     3,     4,    5,    6,    7,    8,    9,   10,   11,   12,   13,   14,    15,    16,    17,   18]\n",
    "\n",
    "    return hour_labels, y_labels\n",
    "\n",
    "\n",
    "def create_chart_from_pd(sleep_data_processed):\n",
    "    hour_labels, y_labels = conv_table_hour_label_to_ylabels()\n",
    "\n",
    "    source = pd.DataFrame(sleep_data_processed)\n",
    "    yHourLabels = pd.DataFrame(data={\"hour_labels\": hour_labels, \"y_labels\": y_labels})\n",
    "\n",
    "    bar_chart = (\n",
    "        alt.Chart(source)\n",
    "        .mark_bar()\n",
    "        .encode(\n",
    "            y=alt.Y(\"start\", axis=alt.Axis(labels=False, tickCount=len(hour_labels))),\n",
    "            y2=\"end\",\n",
    "            x=\"date\",\n",
    "            color=alt.condition(\n",
    "                alt.datum.end - alt.datum.start >= 8,\n",
    "                alt.value(\"#006600\"),  # The positive color\n",
    "                alt.value(\"#BB0000\"),  # The negative color\n",
    "            ),\n",
    "        )\n",
    "    )\n",
    "\n",
    "    text = (\n",
    "        alt.Chart(yHourLabels)\n",
    "        .mark_text(align=\"right\")\n",
    "        .encode(\n",
    "            y=alt.Y(\"y_labels:Q\", title=\"sleep time\"),\n",
    "            x=alt.value(-3),\n",
    "            text=\"hour_labels:N\",\n",
    "        )\n",
    "    )\n",
    "\n",
    "    total_sleep_hour_label = bar_chart.mark_text(\n",
    "        align=\"center\", baseline=\"middle\", dy=-15\n",
    "    ).encode(text=\"total_sleep_hours:Q\", color=alt.value(\"white\"))\n",
    "\n",
    "    chart = bar_chart + text + total_sleep_hour_label\n",
    "    return chart\n"
   ]
  },
  {
   "cell_type": "code",
   "execution_count": 4,
   "metadata": {},
   "outputs": [],
   "source": [
    "chart = create_chart_from_pd(sleep_data)\n",
    "chart = chart.properties(width=400).configure_axisY(\n",
    "    titleAngle=-90, titleX=-25, labelPadding=160, labelAlign=\"left\"\n",
    ")\n"
   ]
  },
  {
   "cell_type": "code",
   "execution_count": 5,
   "metadata": {},
   "outputs": [
    {
     "data": {
      "text/html": [
       "\n",
       "<div id=\"altair-viz-8222450df98248d0b0dd86845e8493ee\"></div>\n",
       "<script type=\"text/javascript\">\n",
       "  var VEGA_DEBUG = (typeof VEGA_DEBUG == \"undefined\") ? {} : VEGA_DEBUG;\n",
       "  (function(spec, embedOpt){\n",
       "    let outputDiv = document.currentScript.previousElementSibling;\n",
       "    if (outputDiv.id !== \"altair-viz-8222450df98248d0b0dd86845e8493ee\") {\n",
       "      outputDiv = document.getElementById(\"altair-viz-8222450df98248d0b0dd86845e8493ee\");\n",
       "    }\n",
       "    const paths = {\n",
       "      \"vega\": \"https://cdn.jsdelivr.net/npm//vega@5?noext\",\n",
       "      \"vega-lib\": \"https://cdn.jsdelivr.net/npm//vega-lib?noext\",\n",
       "      \"vega-lite\": \"https://cdn.jsdelivr.net/npm//vega-lite@4.17.0?noext\",\n",
       "      \"vega-embed\": \"https://cdn.jsdelivr.net/npm//vega-embed@6?noext\",\n",
       "    };\n",
       "\n",
       "    function maybeLoadScript(lib, version) {\n",
       "      var key = `${lib.replace(\"-\", \"\")}_version`;\n",
       "      return (VEGA_DEBUG[key] == version) ?\n",
       "        Promise.resolve(paths[lib]) :\n",
       "        new Promise(function(resolve, reject) {\n",
       "          var s = document.createElement('script');\n",
       "          document.getElementsByTagName(\"head\")[0].appendChild(s);\n",
       "          s.async = true;\n",
       "          s.onload = () => {\n",
       "            VEGA_DEBUG[key] = version;\n",
       "            return resolve(paths[lib]);\n",
       "          };\n",
       "          s.onerror = () => reject(`Error loading script: ${paths[lib]}`);\n",
       "          s.src = paths[lib];\n",
       "        });\n",
       "    }\n",
       "\n",
       "    function showError(err) {\n",
       "      outputDiv.innerHTML = `<div class=\"error\" style=\"color:red;\">${err}</div>`;\n",
       "      throw err;\n",
       "    }\n",
       "\n",
       "    function displayChart(vegaEmbed) {\n",
       "      vegaEmbed(outputDiv, spec, embedOpt)\n",
       "        .catch(err => showError(`Javascript Error: ${err.message}<br>This usually means there's a typo in your chart specification. See the javascript console for the full traceback.`));\n",
       "    }\n",
       "\n",
       "    if(typeof define === \"function\" && define.amd) {\n",
       "      requirejs.config({paths});\n",
       "      require([\"vega-embed\"], displayChart, err => showError(`Error loading script: ${err.message}`));\n",
       "    } else {\n",
       "      maybeLoadScript(\"vega\", \"5\")\n",
       "        .then(() => maybeLoadScript(\"vega-lite\", \"4.17.0\"))\n",
       "        .then(() => maybeLoadScript(\"vega-embed\", \"6\"))\n",
       "        .catch(showError)\n",
       "        .then(() => displayChart(vegaEmbed));\n",
       "    }\n",
       "  })({\"config\": {\"view\": {\"continuousWidth\": 400, \"continuousHeight\": 300}, \"axisY\": {\"labelAlign\": \"left\", \"labelPadding\": 160, \"titleAngle\": -90, \"titleX\": -25}}, \"layer\": [{\"data\": {\"name\": \"data-aca108cfab2cfcc7b15366d440573dde\"}, \"mark\": \"bar\", \"encoding\": {\"color\": {\"condition\": {\"value\": \"#006600\", \"test\": \"((datum.end - datum.start) >= 8)\"}, \"value\": \"#BB0000\"}, \"x\": {\"field\": \"date\", \"type\": \"nominal\"}, \"y\": {\"axis\": {\"labels\": false, \"tickCount\": 19}, \"field\": \"start\", \"type\": \"quantitative\"}, \"y2\": {\"field\": \"end\"}}}, {\"data\": {\"name\": \"data-beeb4a58fd95803815144dd3f8396326\"}, \"mark\": {\"type\": \"text\", \"align\": \"right\"}, \"encoding\": {\"text\": {\"field\": \"hour_labels\", \"type\": \"nominal\"}, \"x\": {\"value\": -3}, \"y\": {\"field\": \"y_labels\", \"title\": \"sleep time\", \"type\": \"quantitative\"}}}, {\"data\": {\"name\": \"data-aca108cfab2cfcc7b15366d440573dde\"}, \"mark\": {\"type\": \"text\", \"align\": \"center\", \"baseline\": \"middle\", \"dy\": -15}, \"encoding\": {\"color\": {\"value\": \"white\"}, \"text\": {\"field\": \"total_sleep_hours\", \"type\": \"quantitative\"}, \"x\": {\"field\": \"date\", \"type\": \"nominal\"}, \"y\": {\"axis\": {\"labels\": false, \"tickCount\": 19}, \"field\": \"start\", \"type\": \"quantitative\"}, \"y2\": {\"field\": \"end\"}}}], \"width\": 400, \"$schema\": \"https://vega.github.io/schema/vega-lite/v4.17.0.json\", \"datasets\": {\"data-aca108cfab2cfcc7b15366d440573dde\": [{\"date\": \"Today\", \"start\": 0.0, \"end\": 0.0, \"total_sleep_hours\": \"\"}, {\"date\": \"08-07\", \"start\": 0.0, \"end\": 0.0, \"total_sleep_hours\": \"\"}, {\"date\": \"08-06\", \"start\": 0.0, \"end\": 0.0, \"total_sleep_hours\": \"\"}, {\"date\": \"08-05\", \"start\": 0.0, \"end\": 0.0, \"total_sleep_hours\": \"\"}, {\"date\": \"08-04\", \"start\": 0.0, \"end\": 0.0, \"total_sleep_hours\": \"\"}, {\"date\": \"08-03\", \"start\": 0.0, \"end\": 0.0, \"total_sleep_hours\": \"\"}, {\"date\": \"08-02\", \"start\": 0.0, \"end\": 0.0, \"total_sleep_hours\": \"\"}, {\"date\": \"08-01\", \"start\": 5.5, \"end\": 15.0, \"total_sleep_hours\": \"9.5\"}, {\"date\": \"07-31\", \"start\": 6.5, \"end\": 13.0, \"total_sleep_hours\": \"6.5\"}, {\"date\": \"07-30\", \"start\": 0.0, \"end\": 0.0, \"total_sleep_hours\": \"\"}, {\"date\": \"07-29\", \"start\": 0.0, \"end\": 0.0, \"total_sleep_hours\": \"\"}, {\"date\": \"07-28\", \"start\": 0.0, \"end\": 0.0, \"total_sleep_hours\": \"\"}, {\"date\": \"07-27\", \"start\": 0.0, \"end\": 0.0, \"total_sleep_hours\": \"\"}, {\"date\": \"07-26\", \"start\": 0.0, \"end\": 0.0, \"total_sleep_hours\": \"\"}], \"data-beeb4a58fd95803815144dd3f8396326\": [{\"hour_labels\": \"8p\", \"y_labels\": 0}, {\"hour_labels\": \"9p\", \"y_labels\": 1}, {\"hour_labels\": \"10p\", \"y_labels\": 2}, {\"hour_labels\": \"11p\", \"y_labels\": 3}, {\"hour_labels\": \"12a\", \"y_labels\": 4}, {\"hour_labels\": \"1a\", \"y_labels\": 5}, {\"hour_labels\": \"2a\", \"y_labels\": 6}, {\"hour_labels\": \"3a\", \"y_labels\": 7}, {\"hour_labels\": \"4a\", \"y_labels\": 8}, {\"hour_labels\": \"5a\", \"y_labels\": 9}, {\"hour_labels\": \"6a\", \"y_labels\": 10}, {\"hour_labels\": \"7a\", \"y_labels\": 11}, {\"hour_labels\": \"8a\", \"y_labels\": 12}, {\"hour_labels\": \"9a\", \"y_labels\": 13}, {\"hour_labels\": \"10a\", \"y_labels\": 14}, {\"hour_labels\": \"11a\", \"y_labels\": 15}, {\"hour_labels\": \"12p\", \"y_labels\": 16}, {\"hour_labels\": \"1p\", \"y_labels\": 17}, {\"hour_labels\": \"2p\", \"y_labels\": 18}]}}, {\"mode\": \"vega-lite\"});\n",
       "</script>"
      ],
      "text/plain": [
       "alt.LayerChart(...)"
      ]
     },
     "execution_count": 5,
     "metadata": {},
     "output_type": "execute_result"
    }
   ],
   "source": [
    "chart"
   ]
  },
  {
   "cell_type": "code",
   "execution_count": null,
   "metadata": {},
   "outputs": [],
   "source": []
  }
 ],
 "metadata": {
  "interpreter": {
   "hash": "b0fa6594d8f4cbf19f97940f81e996739fb7646882a419484c72d19e05852a7e"
  },
  "kernelspec": {
   "display_name": "Python 3 (ipykernel)",
   "language": "python",
   "name": "python3"
  },
  "language_info": {
   "codemirror_mode": {
    "name": "ipython",
    "version": 3
   },
   "file_extension": ".py",
   "mimetype": "text/x-python",
   "name": "python",
   "nbconvert_exporter": "python",
   "pygments_lexer": "ipython3",
   "version": "3.9.10"
  }
 },
 "nbformat": 4,
 "nbformat_minor": 2
}
