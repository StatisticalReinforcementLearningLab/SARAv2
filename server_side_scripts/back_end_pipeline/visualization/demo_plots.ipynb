{
 "metadata": {
  "language_info": {
   "codemirror_mode": {
    "name": "ipython",
    "version": 3
   },
   "file_extension": ".py",
   "mimetype": "text/x-python",
   "name": "python",
   "nbconvert_exporter": "python",
   "pygments_lexer": "ipython3",
   "version": "3.7.3-final"
  },
  "orig_nbformat": 2,
  "kernelspec": {
   "name": "python3",
   "display_name": "Python 3"
  }
 },
 "nbformat": 4,
 "nbformat_minor": 2,
 "cells": [
  {
   "cell_type": "code",
   "execution_count": 1,
   "metadata": {},
   "outputs": [],
   "source": [
    "import json\n",
    "import mysql.connector as mysql\n",
    "import pdb\n",
    "from datetime import datetime\n",
    "import pandas as pd\n",
    "import boto3\n",
    "import os\n",
    "import altair as alt\n",
    "\n",
    "from VisualizationFactory import VisualizationFactory"
   ]
  },
  {
   "cell_type": "code",
   "execution_count": 2,
   "metadata": {},
   "outputs": [
    {
     "output_type": "display_data",
     "data": {
      "text/plain": "<IPython.core.display.Javascript object>",
      "application/javascript": "//toggle scrolling for jupyter notebooks.\nIPython.OutputArea.prototype._should_scroll = function(lines) {\n    return false;\n}\n"
     },
     "metadata": {}
    }
   ],
   "source": [
    "%%javascript\n",
    "//toggle scrolling for jupyter notebooks.\n",
    "IPython.OutputArea.prototype._should_scroll = function(lines) {\n",
    "    return false;\n",
    "}"
   ]
  },
  {
   "source": [
    "## Mood plot"
   ],
   "cell_type": "markdown",
   "metadata": {}
  },
  {
   "cell_type": "code",
   "execution_count": 4,
   "metadata": {},
   "outputs": [
    {
     "output_type": "stream",
     "name": "stdout",
     "text": [
      "Generating time series for mood\n",
      "2020-10-14 01:44:48 no mood\n",
      "2020-10-14 01:31:05 no mood\n",
      "2020-10-14 01:18:55 no mood\n",
      "2020-10-14 01:03:58 no mood\n",
      "2020-10-07 01:30:48 no mood\n",
      "2020-10-07 01:30:47 no mood\n",
      "2020-10-07 01:30:46 no mood\n",
      "2020-10-07 01:30:45 no mood\n",
      "2020-10-07 01:30:43 no mood\n",
      "2020-10-07 01:30:42 no mood\n",
      "2020-10-07 01:30:41 no mood\n",
      "2020-10-07 01:30:40 no mood\n",
      "Storing mood plot to S3\n",
      "             timestamp   arousal   valence\n",
      "0  2020-10-30 23:15:30 -0.968250  1.573691\n",
      "1  2020-10-29 21:00:31 -1.283965  1.472107\n",
      "2  2020-10-28 22:31:15 -1.143647  1.099633\n",
      "3  2020-10-27 18:32:51 -1.354123  1.539830\n",
      "4  2020-10-26 22:23:38 -0.652536  2.521809\n",
      "5  2020-10-08 21:01:28 -0.757774  2.284780\n",
      "6  2020-09-30 23:25:46 -1.354123  0.896465\n",
      "7  2020-09-28 15:18:13  0.808644  0.755687\n",
      "8  2020-09-28 13:34:23  1.443664  1.958165\n",
      "9  2020-09-28 13:34:23  1.443664  1.958165\n",
      "10 2020-09-28 13:34:23  1.443664  1.958165\n",
      "11 2020-09-28 13:34:23  1.443664  1.958165\n",
      "12 2020-09-28 13:34:23  1.443664  1.958165\n",
      "13 2020-09-28 13:34:21  1.443664  1.958165\n",
      "14 2020-09-28 13:34:20  1.443664  1.958165\n",
      "15 2020-09-28 08:11:53 -1.181100 -1.066729\n",
      "16 2020-09-28 08:11:34  0.542273  1.182122\n",
      "17 2020-09-28 07:59:22  1.372045  1.274541\n",
      "18 2020-09-28 07:59:00  0.989073  0.843254\n",
      "19 2020-09-28 07:58:01  0.829502  1.120510\n",
      "20 2020-09-28 07:55:40  0.829502  0.781642\n",
      "21 2020-09-28 07:53:16  0.318873  0.935673\n",
      "22 2020-09-28 07:52:29  0.893330  1.520990\n",
      "23 2020-09-28 07:48:59  0.989073  1.551796\n",
      "24 2020-09-28 07:46:13  1.020988  1.736633\n",
      "25 2020-09-28 07:45:48  0.542273  1.212928\n",
      "26 2020-09-28 07:45:25  0.542273  1.212928\n",
      "27 2020-09-28 07:44:35  1.052902  2.013889\n",
      "28 2020-09-28 07:43:07  0.829502  1.520990\n",
      "29 2020-09-28 07:35:19  0.797587  1.274541\n",
      "30 2020-09-28 07:33:26  1.148645  1.459378\n",
      "31 2020-09-28 07:29:52  0.861416  1.983083\n",
      "32 2020-09-28 07:28:15  1.691188  1.058897\n",
      "33 2020-09-28 07:26:05  1.435874  2.599206\n",
      "34 2020-09-28 07:23:08  1.435874  2.599206\n",
      "35 2020-09-28 07:20:52  0.701845  1.613409\n",
      "36 2020-09-28 07:19:56  2.457132  2.044695\n"
     ]
    },
    {
     "output_type": "execute_result",
     "data": {
      "text/html": "\n<div id=\"altair-viz-fed5a5bf28ad4f82acf1399d8de8f4b8\"></div>\n<script type=\"text/javascript\">\n  (function(spec, embedOpt){\n    let outputDiv = document.currentScript.previousElementSibling;\n    if (outputDiv.id !== \"altair-viz-fed5a5bf28ad4f82acf1399d8de8f4b8\") {\n      outputDiv = document.getElementById(\"altair-viz-fed5a5bf28ad4f82acf1399d8de8f4b8\");\n    }\n    const paths = {\n      \"vega\": \"https://cdn.jsdelivr.net/npm//vega@5?noext\",\n      \"vega-lib\": \"https://cdn.jsdelivr.net/npm//vega-lib?noext\",\n      \"vega-lite\": \"https://cdn.jsdelivr.net/npm//vega-lite@4.8.1?noext\",\n      \"vega-embed\": \"https://cdn.jsdelivr.net/npm//vega-embed@6?noext\",\n    };\n\n    function loadScript(lib) {\n      return new Promise(function(resolve, reject) {\n        var s = document.createElement('script');\n        s.src = paths[lib];\n        s.async = true;\n        s.onload = () => resolve(paths[lib]);\n        s.onerror = () => reject(`Error loading script: ${paths[lib]}`);\n        document.getElementsByTagName(\"head\")[0].appendChild(s);\n      });\n    }\n\n    function showError(err) {\n      outputDiv.innerHTML = `<div class=\"error\" style=\"color:red;\">${err}</div>`;\n      throw err;\n    }\n\n    function displayChart(vegaEmbed) {\n      vegaEmbed(outputDiv, spec, embedOpt)\n        .catch(err => showError(`Javascript Error: ${err.message}<br>This usually means there's a typo in your chart specification. See the javascript console for the full traceback.`));\n    }\n\n    if(typeof define === \"function\" && define.amd) {\n      requirejs.config({paths});\n      require([\"vega-embed\"], displayChart, err => showError(`Error loading script: ${err.message}`));\n    } else if (typeof vegaEmbed === \"function\") {\n      displayChart(vegaEmbed);\n    } else {\n      loadScript(\"vega\")\n        .then(() => loadScript(\"vega-lite\"))\n        .then(() => loadScript(\"vega-embed\"))\n        .catch(showError)\n        .then(() => displayChart(vegaEmbed));\n    }\n  })({\"config\": {\"view\": {\"continuousWidth\": 400, \"continuousHeight\": 300}, \"axis\": {\"titleColor\": \"#004B99\", \"titleFontSize\": 15}, \"background\": \"aliceblue\", \"title\": {\"color\": \"#004B99\", \"fontSize\": 25}}, \"layer\": [{\"data\": {\"name\": \"data-2f274c641bc9069ea5fbee038f5ba2bf\"}, \"mark\": {\"type\": \"circle\", \"color\": \"#99004B\", \"size\": 60}, \"encoding\": {\"x\": {\"type\": \"quantitative\", \"field\": \"arousal\", \"title\": \"Negative \\u21e8 Positive\"}, \"y\": {\"type\": \"quantitative\", \"field\": \"valence\", \"title\": \"Sleepy \\u21e8 Alert\"}}, \"title\": \"Mood this month\"}, {\"data\": {\"name\": \"data-bd4fa40611a0e50928c619afec84a7cf\"}, \"mark\": {\"type\": \"text\", \"align\": \"left\", \"color\": \"#4B9900\", \"dx\": -150, \"dy\": -75, \"fontSize\": 30, \"text\": \"Stress\"}, \"encoding\": {\"opacity\": {\"value\": 0.5}}}, {\"data\": {\"name\": \"data-bd4fa40611a0e50928c619afec84a7cf\"}, \"mark\": {\"type\": \"text\", \"align\": \"right\", \"color\": \"#4B9900\", \"dx\": 150, \"dy\": -75, \"fontSize\": 30, \"text\": \"Excitement\"}, \"encoding\": {\"opacity\": {\"value\": 0.5}}}, {\"data\": {\"name\": \"data-bd4fa40611a0e50928c619afec84a7cf\"}, \"mark\": {\"type\": \"text\", \"align\": \"left\", \"color\": \"#4B9900\", \"dx\": -150, \"dy\": 75, \"fontSize\": 30, \"text\": \"Depressed\"}, \"encoding\": {\"opacity\": {\"value\": 0.5}}}, {\"data\": {\"name\": \"data-bd4fa40611a0e50928c619afec84a7cf\"}, \"mark\": {\"type\": \"text\", \"align\": \"right\", \"color\": \"#4B9900\", \"dx\": 150, \"dy\": 75, \"fontSize\": 30, \"text\": \"Relaxed\"}, \"encoding\": {\"opacity\": {\"value\": 0.5}}}], \"height\": 400, \"width\": 400, \"$schema\": \"https://vega.github.io/schema/vega-lite/v4.8.1.json\", \"datasets\": {\"data-2f274c641bc9069ea5fbee038f5ba2bf\": [{\"timestamp\": \"2020-10-30T23:15:30\", \"arousal\": -0.9682501932338425, \"valence\": 1.5736914600550964}, {\"timestamp\": \"2020-10-29T21:00:31\", \"arousal\": -1.2839645638860806, \"valence\": 1.472107438016529}, {\"timestamp\": \"2020-10-28T22:31:15\", \"arousal\": -1.1436470658184192, \"valence\": 1.0996326905417817}, {\"timestamp\": \"2020-10-27T18:32:51\", \"arousal\": -1.3541233129199117, \"valence\": 1.5398301193755741}, {\"timestamp\": \"2020-10-26T22:23:38\", \"arousal\": -0.652535822581604, \"valence\": 2.5218089990817263}, {\"timestamp\": \"2020-10-08T21:01:28\", \"arousal\": -0.7577739461323496, \"valence\": 2.284779614325069}, {\"timestamp\": \"2020-09-30T23:25:46\", \"arousal\": -1.3541233129199117, \"valence\": 0.8964646464646462}, {\"timestamp\": \"2020-09-28T15:18:13\", \"arousal\": 0.8086444230442407, \"valence\": 0.7556867891513566}, {\"timestamp\": \"2020-09-28T13:34:23\", \"arousal\": 1.443663966464622, \"valence\": 1.9581645888814987}, {\"timestamp\": \"2020-09-28T13:34:23\", \"arousal\": 1.443663966464622, \"valence\": 1.9581645888814987}, {\"timestamp\": \"2020-09-28T13:34:23\", \"arousal\": 1.443663966464622, \"valence\": 1.9581645888814987}, {\"timestamp\": \"2020-09-28T13:34:23\", \"arousal\": 1.443663966464622, \"valence\": 1.9581645888814987}, {\"timestamp\": \"2020-09-28T13:34:23\", \"arousal\": 1.443663966464622, \"valence\": 1.9581645888814987}, {\"timestamp\": \"2020-09-28T13:34:21\", \"arousal\": 1.443663966464622, \"valence\": 1.9581645888814987}, {\"timestamp\": \"2020-09-28T13:34:20\", \"arousal\": 1.443663966464622, \"valence\": 1.9581645888814987}, {\"timestamp\": \"2020-09-28T08:11:53\", \"arousal\": -1.1811002325958784, \"valence\": -1.0667293233082704}, {\"timestamp\": \"2020-09-28T08:11:34\", \"arousal\": 0.5422729485584474, \"valence\": 1.182121971595656}, {\"timestamp\": \"2020-09-28T07:59:22\", \"arousal\": 1.3720452209660845, \"valence\": 1.2745405179615705}, {\"timestamp\": \"2020-09-28T07:59:00\", \"arousal\": 0.9890734029317905, \"valence\": 0.8432539682539684}, {\"timestamp\": \"2020-09-28T07:58:01\", \"arousal\": 0.8295018120841675, \"valence\": 1.1205096073517127}, {\"timestamp\": \"2020-09-28T07:55:40\", \"arousal\": 0.8295018120841675, \"valence\": 0.7816416040100247}, {\"timestamp\": \"2020-09-28T07:53:16\", \"arousal\": 0.31887272137177547, \"valence\": 0.935672514619883}, {\"timestamp\": \"2020-09-28T07:52:29\", \"arousal\": 0.8933304484232165, \"valence\": 1.5209899749373434}, {\"timestamp\": \"2020-09-28T07:48:59\", \"arousal\": 0.9890734029317905, \"valence\": 1.5517961570593148}, {\"timestamp\": \"2020-09-28T07:46:13\", \"arousal\": 1.0209877211013154, \"valence\": 1.7366332497911445}, {\"timestamp\": \"2020-09-28T07:45:48\", \"arousal\": 0.5422729485584474, \"valence\": 1.2129281537176273}, {\"timestamp\": \"2020-09-28T07:45:25\", \"arousal\": 0.5422729485584474, \"valence\": 1.2129281537176273}, {\"timestamp\": \"2020-09-28T07:44:35\", \"arousal\": 1.0529020392708395, \"valence\": 2.013888888888889}, {\"timestamp\": \"2020-09-28T07:43:07\", \"arousal\": 0.8295018120841675, \"valence\": 1.5209899749373434}, {\"timestamp\": \"2020-09-28T07:35:19\", \"arousal\": 0.7975874939146435, \"valence\": 1.2745405179615705}, {\"timestamp\": \"2020-09-28T07:33:26\", \"arousal\": 1.1486449937794134, \"valence\": 1.4593776106934002}, {\"timestamp\": \"2020-09-28T07:29:52\", \"arousal\": 0.8614161302536925, \"valence\": 1.9830827067669174}, {\"timestamp\": \"2020-09-28T07:28:15\", \"arousal\": 1.6911884026613304, \"valence\": 1.0588972431077694}, {\"timestamp\": \"2020-09-28T07:26:05\", \"arousal\": 1.4358738573051335, \"valence\": 2.5992063492063493}, {\"timestamp\": \"2020-09-28T07:23:08\", \"arousal\": 1.4358738573051335, \"valence\": 2.5992063492063493}, {\"timestamp\": \"2020-09-28T07:20:52\", \"arousal\": 0.7018445394060695, \"valence\": 1.613408521303258}, {\"timestamp\": \"2020-09-28T07:19:56\", \"arousal\": 2.4571320387299194, \"valence\": 2.0446950710108602}], \"data-bd4fa40611a0e50928c619afec84a7cf\": [{\"0\": 1}]}}, {\"mode\": \"vega-lite\"});\n</script>",
      "text/plain": [
       "alt.LayerChart(...)"
      ]
     },
     "metadata": {},
     "execution_count": 4
    }
   ],
   "source": [
    "mVisualizationFactory = VisualizationFactory()\n",
    "\n",
    "mood_chart = mVisualizationFactory.generate_and_save_chart(\"edu.harvard.srl.MoodVisualization\")\n",
    "mood_chart"
   ]
  },
  {
   "cell_type": "code",
   "execution_count": null,
   "metadata": {},
   "outputs": [],
   "source": []
  }
 ]
}