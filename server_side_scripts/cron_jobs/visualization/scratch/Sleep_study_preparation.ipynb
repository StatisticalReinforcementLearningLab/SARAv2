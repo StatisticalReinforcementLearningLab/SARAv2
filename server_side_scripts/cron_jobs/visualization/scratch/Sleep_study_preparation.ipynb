{
 "cells": [
  {
   "cell_type": "markdown",
   "metadata": {},
   "source": [
    "### Add aware user to users table"
   ]
  },
  {
   "cell_type": "code",
   "execution_count": 3,
   "metadata": {},
   "outputs": [
    {
     "name": "stdout",
     "output_type": "stream",
     "text": [
      "36c38a8d-c6d7-48a7-88a5-5f9796b540b6\n",
      "7134c8fb-07e9-4075-b3a9-8a0443f9d7a7\n"
     ]
    }
   ],
   "source": [
    "import json\n",
    "import mysql.connector as mysql\n",
    "from datetime import date\n",
    "\n",
    "mysql_config_file = \"./config/awareSqlConfig.json\"\n",
    "\n",
    "with open(mysql_config_file) as f:\n",
    "    mysql_connect_object = json.load(f)\n",
    "\n",
    "\n",
    "db = mysql.connect(\n",
    "    host = mysql_connect_object[\"host\"],\n",
    "    port = mysql_connect_object[\"port\"],\n",
    "    user = mysql_connect_object[\"user\"],\n",
    "    passwd = mysql_connect_object[\"passwd\"],\n",
    "    database = mysql_connect_object[\"database\"]\n",
    ")\n",
    "\n",
    "\n",
    "# removing keys and inserting separately into table\n",
    "date_string = date.today().strftime(\"%Y%m%d\")\n",
    "\n",
    "date_string = \"20201130\"\n",
    "\n",
    "cursor = db.cursor()\n",
    "sql_command = \"SELECT DISTINCT device_id from saraaware2.screen;\" \n",
    "\n",
    "cursor.execute(sql_command)\n",
    "unique_ids_data = cursor.fetchall()\n",
    "for x in unique_ids_data:\n",
    "    print(str(x[0]))\n",
    "    \n",
    "db.close()"
   ]
  },
  {
   "cell_type": "code",
   "execution_count": 29,
   "metadata": {},
   "outputs": [
    {
     "name": "stdout",
     "output_type": "stream",
     "text": [
      "88315702-a3e6-4296-8437-0a56b4c4f03b,mash_aya\n",
      "76c46cd4-670f-453a-93f3-8c45b629c31f,murphy_aya\n",
      "de8857ae-0ed1-4eb2-8efc-b6a2aad70ad2,frank_aya\n"
     ]
    }
   ],
   "source": [
    "def update_aware_id(user_id, aware_id):\n",
    "    mysql_config_file = \"./config/saraSqlConfig.json\"\n",
    "    \n",
    "    with open(mysql_config_file) as f:\n",
    "        mysql_connect_object = json.load(f)\n",
    "    \n",
    "    db = mysql.connect(\n",
    "        host = mysql_connect_object[\"host\"],\n",
    "        port = mysql_connect_object[\"port\"],\n",
    "        user = mysql_connect_object[\"user\"],\n",
    "        passwd = mysql_connect_object[\"passwd\"],\n",
    "        database = mysql_connect_object[\"database\"]\n",
    "    )\n",
    "    \n",
    "    cursor = db.cursor()\n",
    "    update_statement = \"UPDATE users SET aware_id = '\" + aware_id + \"' WHERE username = '\" + user_id + \"';\"\n",
    "    \n",
    "    cursor.execute(update_statement)\n",
    "    db.commit()\n",
    "    db.close()\n",
    "    \n",
    "def print_existing_user_id_and_aware_id():\n",
    "    mysql_config_file = \"./config/saraSqlConfig.json\"\n",
    "    \n",
    "    with open(mysql_config_file) as f:\n",
    "        mysql_connect_object = json.load(f)\n",
    "    \n",
    "    db = mysql.connect(\n",
    "        host = mysql_connect_object[\"host\"],\n",
    "        port = mysql_connect_object[\"port\"],\n",
    "        user = mysql_connect_object[\"user\"],\n",
    "        passwd = mysql_connect_object[\"passwd\"],\n",
    "        database = mysql_connect_object[\"database\"]\n",
    "    )\n",
    "    \n",
    "    cursor = db.cursor()\n",
    "    select_statement = \"select username, aware_id from users where aware_id IS NOT NULL;\"\n",
    "    cursor.execute(select_statement)\n",
    "    aware_id_user_ids = cursor.fetchall()\n",
    "    for x in aware_id_user_ids:\n",
    "        print(str(x[1]) + \",\" + str(x[0]))\n",
    "    \n",
    "    db.close()\n",
    "\n",
    "\n",
    "aware_id = '88315702-a3e6-4296-8437-0a56b4c4f03b'\n",
    "user_id = 'mash_aya'\n",
    "update_aware_id(user_id, aware_id)\n",
    "\n",
    "aware_id = '76c46cd4-670f-453a-93f3-8c45b629c31f'\n",
    "user_id = 'murphy_aya'\n",
    "update_aware_id(user_id, aware_id)\n",
    "\n",
    "aware_id = 'de8857ae-0ed1-4eb2-8efc-b6a2aad70ad2'\n",
    "user_id = 'frank_aya'\n",
    "update_aware_id(user_id, aware_id)\n",
    "\n",
    "\n",
    "print_existing_user_id_and_aware_id()"
   ]
  },
  {
   "cell_type": "code",
   "execution_count": null,
   "metadata": {},
   "outputs": [],
   "source": []
  },
  {
   "cell_type": "code",
   "execution_count": 30,
   "metadata": {},
   "outputs": [
    {
     "name": "stdout",
     "output_type": "stream",
     "text": [
      "alex_aya\n",
      "andrew_aya\n",
      "annisa_aya\n",
      "becky2_aya\n",
      "chloe_aya\n",
      "elise_aya\n",
      "eura\n",
      "eurashin\n",
      "euratest\n",
      "frank_aya\n",
      "hi\n",
      "huang_aya\n",
      "julie_aya\n",
      "kielstra_aya\n",
      "lake_aya\n",
      "liying_aya\n",
      "marcus_aya\n",
      "mash_aya\n",
      "matt_aya\n",
      "murphy_aya\n",
      "paltin_aya\n",
      "phillip_sara\n",
      "rathnam_aya\n",
      "red_aya\n",
      "samurphy11\n",
      "sarah-test\n",
      "sarah-test-2\n",
      "sarah_sara\n",
      "susan_aya\n",
      "test\n"
     ]
    }
   ],
   "source": [
    "import json\n",
    "import mysql.connector as mysql\n",
    "from datetime import date\n",
    "\n",
    "mysql_config_file = \"./config/saraSqlConfig.json\"\n",
    "\n",
    "with open(mysql_config_file) as f:\n",
    "    mysql_connect_object = json.load(f)\n",
    "\n",
    "\n",
    "db = mysql.connect(\n",
    "    host = mysql_connect_object[\"host\"],\n",
    "    port = mysql_connect_object[\"port\"],\n",
    "    user = mysql_connect_object[\"user\"],\n",
    "    passwd = mysql_connect_object[\"passwd\"],\n",
    "    database = mysql_connect_object[\"database\"]\n",
    ")\n",
    "\n",
    "\n",
    "# removing keys and inserting separately into table\n",
    "cursor = db.cursor()\n",
    "sql_command = \"SELECT DISTINCT username from users;\" \n",
    "\n",
    "cursor.execute(sql_command)\n",
    "unique_ids_data = cursor.fetchall()\n",
    "for x in unique_ids_data:\n",
    "    print(str(x[0]))\n",
    "    \n",
    "db.close()"
   ]
  },
  {
   "cell_type": "code",
   "execution_count": 31,
   "metadata": {},
   "outputs": [
    {
     "name": "stdout",
     "output_type": "stream",
     "text": [
      "/Users/mash2/Dropbox (PAC LAB)/codes/ionic_projects/SARAV3/SARA_modular/server_side_scripts/back_end_pipeline/visualization/scratch\r\n"
     ]
    }
   ],
   "source": [
    "!pwd"
   ]
  },
  {
   "cell_type": "code",
   "execution_count": 10,
   "metadata": {},
   "outputs": [
    {
     "name": "stdout",
     "output_type": "stream",
     "text": [
      "mash_aya,December 23rd 2020, 11:06:30 am -08:00, -08\n"
     ]
    },
    {
     "data": {
      "text/plain": [
       "-8"
      ]
     },
     "execution_count": 10,
     "metadata": {},
     "output_type": "execute_result"
    }
   ],
   "source": [
    "def print_timezone_for_user_id(user_id):\n",
    "    mysql_config_file = \"./config/saraSqlConfig.json\"\n",
    "    \n",
    "    with open(mysql_config_file) as f:\n",
    "        mysql_connect_object = json.load(f)\n",
    "    \n",
    "    db = mysql.connect(\n",
    "        host = mysql_connect_object[\"host\"],\n",
    "        port = mysql_connect_object[\"port\"],\n",
    "        user = mysql_connect_object[\"user\"],\n",
    "        passwd = mysql_connect_object[\"passwd\"],\n",
    "        database = mysql_connect_object[\"database\"]\n",
    "    )\n",
    "    \n",
    "    cursor = db.cursor()\n",
    "    \n",
    "    select_statement = \"SELECT * FROM SARAApp.user_ids WHERE (user_id,currentTimeTs) IN  \\\n",
    "                            ( SELECT user_id, MAX(currentTimeTs) \\\n",
    "                            FROM SARAApp.user_ids \\\n",
    "                            GROUP BY user_id \\\n",
    "                            )  AND user_id = \" + '\"' + user_id + '\"'\n",
    "    \n",
    "    cursor.execute(select_statement)\n",
    "    aware_id_user_ids = cursor.fetchone()\n",
    "    x = aware_id_user_ids\n",
    "    readable_ts = x[3]\n",
    "    splitted_parts = readable_ts.split(\" \")\n",
    "    print(str(x[1]) + \",\" + str(x[3]) + \", \" + splitted_parts[-1].split(\":\")[0])\n",
    "    \n",
    "    db.close()\n",
    "    return int(splitted_parts[-1].split(\":\")[0])\n",
    "    \n",
    "print_timezone_for_user_id(\"mash_aya\")"
   ]
  },
  {
   "cell_type": "code",
   "execution_count": 11,
   "metadata": {},
   "outputs": [
    {
     "name": "stdout",
     "output_type": "stream",
     "text": [
      "36c38a8d-c6d7-48a7-88a5-5f9796b540b6,mash_aya\n",
      "76c46cd4-670f-453a-93f3-8c45b629c31f,murphy_aya\n",
      "dc9a9420-bb22-40a3-8285-6e73594e88b8,chloe_aya\n",
      "03cb49f6-d9ff-4338-94b8-b16d37831dbc,frank_aya\n",
      "b39a842a-9a42-4ef0-aa3f-8a9c2ff6c018,samurphy11\n",
      "f106b7a4-3bc6-4ff7-9152-07e58edbbc23,sarah_sara\n",
      "28b8526c-3666-4baf-9a71-6896e836961e,phillip_sara\n"
     ]
    }
   ],
   "source": [
    "def print_existing_user_id_and_aware_id():\n",
    "    mysql_config_file = \"./config/saraSqlConfig.json\"\n",
    "    \n",
    "    with open(mysql_config_file) as f:\n",
    "        mysql_connect_object = json.load(f)\n",
    "    \n",
    "    db = mysql.connect(\n",
    "        host = mysql_connect_object[\"host\"],\n",
    "        port = mysql_connect_object[\"port\"],\n",
    "        user = mysql_connect_object[\"user\"],\n",
    "        passwd = mysql_connect_object[\"passwd\"],\n",
    "        database = mysql_connect_object[\"database\"]\n",
    "    )\n",
    "    \n",
    "    cursor = db.cursor()\n",
    "    select_statement = \"select username, aware_id from users where aware_id IS NOT NULL;\"\n",
    "    cursor.execute(select_statement)\n",
    "    aware_id_user_ids = cursor.fetchall()\n",
    "    for x in aware_id_user_ids:\n",
    "        print(str(x[1]) + \",\" + str(x[0]))\n",
    "    \n",
    "    db.close()\n",
    "print_existing_user_id_and_aware_id()"
   ]
  },
  {
   "cell_type": "code",
   "execution_count": null,
   "metadata": {},
   "outputs": [],
   "source": []
  }
 ],
 "metadata": {
  "kernelspec": {
   "display_name": "Python 3",
   "language": "python",
   "name": "python3"
  },
  "language_info": {
   "codemirror_mode": {
    "name": "ipython",
    "version": 3
   },
   "file_extension": ".py",
   "mimetype": "text/x-python",
   "name": "python",
   "nbconvert_exporter": "python",
   "pygments_lexer": "ipython3",
   "version": "3.7.7"
  }
 },
 "nbformat": 4,
 "nbformat_minor": 4
}
