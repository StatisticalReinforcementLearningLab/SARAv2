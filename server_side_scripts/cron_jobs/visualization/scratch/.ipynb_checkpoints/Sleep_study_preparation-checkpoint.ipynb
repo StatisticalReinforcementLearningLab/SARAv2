{
 "cells": [
  {
   "cell_type": "markdown",
   "metadata": {},
   "source": [
    "### Add aware user to users table"
   ]
  },
  {
   "cell_type": "code",
   "execution_count": 3,
   "metadata": {},
   "outputs": [
    {
     "name": "stdout",
     "output_type": "stream",
     "text": [
      "36c38a8d-c6d7-48a7-88a5-5f9796b540b6\n",
      "7134c8fb-07e9-4075-b3a9-8a0443f9d7a7\n"
     ]
    }
   ],
   "source": [
    "import json\n",
    "import mysql.connector as mysql\n",
    "from datetime import date\n",
    "\n",
    "mysql_config_file = \"./config/awareSqlConfig.json\"\n",
    "\n",
    "with open(mysql_config_file) as f:\n",
    "    mysql_connect_object = json.load(f)\n",
    "\n",
    "\n",
    "db = mysql.connect(\n",
    "    host = mysql_connect_object[\"host\"],\n",
    "    port = mysql_connect_object[\"port\"],\n",
    "    user = mysql_connect_object[\"user\"],\n",
    "    passwd = mysql_connect_object[\"passwd\"],\n",
    "    database = mysql_connect_object[\"database\"]\n",
    ")\n",
    "\n",
    "\n",
    "# removing keys and inserting separately into table\n",
    "date_string = date.today().strftime(\"%Y%m%d\")\n",
    "\n",
    "date_string = \"20201130\"\n",
    "\n",
    "cursor = db.cursor()\n",
    "sql_command = \"SELECT DISTINCT device_id from saraaware2.screen;\" \n",
    "\n",
    "cursor.execute(sql_command)\n",
    "unique_ids_data = cursor.fetchall()\n",
    "for x in unique_ids_data:\n",
    "    print(str(x[0]))\n",
    "    \n",
    "db.close()"
   ]
  },
  {
   "cell_type": "code",
   "execution_count": 29,
   "metadata": {},
   "outputs": [
    {
     "name": "stdout",
     "output_type": "stream",
     "text": [
      "88315702-a3e6-4296-8437-0a56b4c4f03b,mash_aya\n",
      "76c46cd4-670f-453a-93f3-8c45b629c31f,murphy_aya\n",
      "de8857ae-0ed1-4eb2-8efc-b6a2aad70ad2,frank_aya\n"
     ]
    }
   ],
   "source": [
    "def update_aware_id(user_id, aware_id):\n",
    "    mysql_config_file = \"./config/saraSqlConfig.json\"\n",
    "    \n",
    "    with open(mysql_config_file) as f:\n",
    "        mysql_connect_object = json.load(f)\n",
    "    \n",
    "    db = mysql.connect(\n",
    "        host = mysql_connect_object[\"host\"],\n",
    "        port = mysql_connect_object[\"port\"],\n",
    "        user = mysql_connect_object[\"user\"],\n",
    "        passwd = mysql_connect_object[\"passwd\"],\n",
    "        database = mysql_connect_object[\"database\"]\n",
    "    )\n",
    "    \n",
    "    cursor = db.cursor()\n",
    "    update_statement = \"UPDATE users SET aware_id = '\" + aware_id + \"' WHERE username = '\" + user_id + \"';\"\n",
    "    \n",
    "    cursor.execute(update_statement)\n",
    "    db.commit()\n",
    "    db.close()\n",
    "    \n",
    "def print_existing_user_id_and_aware_id():\n",
    "    mysql_config_file = \"./config/saraSqlConfig.json\"\n",
    "    \n",
    "    with open(mysql_config_file) as f:\n",
    "        mysql_connect_object = json.load(f)\n",
    "    \n",
    "    db = mysql.connect(\n",
    "        host = mysql_connect_object[\"host\"],\n",
    "        port = mysql_connect_object[\"port\"],\n",
    "        user = mysql_connect_object[\"user\"],\n",
    "        passwd = mysql_connect_object[\"passwd\"],\n",
    "        database = mysql_connect_object[\"database\"]\n",
    "    )\n",
    "    \n",
    "    cursor = db.cursor()\n",
    "    select_statement = \"select username, aware_id from users where aware_id IS NOT NULL;\"\n",
    "    cursor.execute(select_statement)\n",
    "    aware_id_user_ids = cursor.fetchall()\n",
    "    for x in aware_id_user_ids:\n",
    "        print(str(x[1]) + \",\" + str(x[0]))\n",
    "    \n",
    "    db.close()\n",
    "\n",
    "\n",
    "aware_id = '88315702-a3e6-4296-8437-0a56b4c4f03b'\n",
    "user_id = 'mash_aya'\n",
    "update_aware_id(user_id, aware_id)\n",
    "\n",
    "aware_id = '76c46cd4-670f-453a-93f3-8c45b629c31f'\n",
    "user_id = 'murphy_aya'\n",
    "update_aware_id(user_id, aware_id)\n",
    "\n",
    "aware_id = 'de8857ae-0ed1-4eb2-8efc-b6a2aad70ad2'\n",
    "user_id = 'frank_aya'\n",
    "update_aware_id(user_id, aware_id)\n",
    "\n",
    "\n",
    "print_existing_user_id_and_aware_id()"
   ]
  },
  {
   "cell_type": "code",
   "execution_count": null,
   "metadata": {},
   "outputs": [],
   "source": []
  },
  {
   "cell_type": "code",
   "execution_count": 30,
   "metadata": {},
   "outputs": [
    {
     "name": "stdout",
     "output_type": "stream",
     "text": [
      "alex_aya\n",
      "andrew_aya\n",
      "annisa_aya\n",
      "becky2_aya\n",
      "chloe_aya\n",
      "elise_aya\n",
      "eura\n",
      "eurashin\n",
      "euratest\n",
      "frank_aya\n",
      "hi\n",
      "huang_aya\n",
      "julie_aya\n",
      "kielstra_aya\n",
      "lake_aya\n",
      "liying_aya\n",
      "marcus_aya\n",
      "mash_aya\n",
      "matt_aya\n",
      "murphy_aya\n",
      "paltin_aya\n",
      "phillip_sara\n",
      "rathnam_aya\n",
      "red_aya\n",
      "samurphy11\n",
      "sarah-test\n",
      "sarah-test-2\n",
      "sarah_sara\n",
      "susan_aya\n",
      "test\n"
     ]
    }
   ],
   "source": [
    "import json\n",
    "import mysql.connector as mysql\n",
    "from datetime import date\n",
    "\n",
    "mysql_config_file = \"./config/saraSqlConfig.json\"\n",
    "\n",
    "with open(mysql_config_file) as f:\n",
    "    mysql_connect_object = json.load(f)\n",
    "\n",
    "\n",
    "db = mysql.connect(\n",
    "    host = mysql_connect_object[\"host\"],\n",
    "    port = mysql_connect_object[\"port\"],\n",
    "    user = mysql_connect_object[\"user\"],\n",
    "    passwd = mysql_connect_object[\"passwd\"],\n",
    "    database = mysql_connect_object[\"database\"]\n",
    ")\n",
    "\n",
    "\n",
    "# removing keys and inserting separately into table\n",
    "cursor = db.cursor()\n",
    "sql_command = \"SELECT DISTINCT username from users;\" \n",
    "\n",
    "cursor.execute(sql_command)\n",
    "unique_ids_data = cursor.fetchall()\n",
    "for x in unique_ids_data:\n",
    "    print(str(x[0]))\n",
    "    \n",
    "db.close()"
   ]
  },
  {
   "cell_type": "code",
   "execution_count": 31,
   "metadata": {},
   "outputs": [
    {
     "name": "stdout",
     "output_type": "stream",
     "text": [
      "/Users/mash2/Dropbox (PAC LAB)/codes/ionic_projects/SARAV3/SARA_modular/server_side_scripts/back_end_pipeline/visualization/scratch\r\n"
     ]
    }
   ],
   "source": [
    "!pwd"
   ]
  },
  {
   "cell_type": "code",
   "execution_count": 7,
   "metadata": {},
   "outputs": [
    {
     "name": "stdout",
     "output_type": "stream",
     "text": [
      "test_ios,test, test\n",
      "test_ios,test, test\n",
      "test_ios,test, test\n",
      "test_ios,test, test\n",
      "test_ios,test, test\n",
      "test_ios,test, test\n",
      "annisa_cg,June 2nd 2020, 11:31:33 am -04:00, -04\n",
      "pilot_cg1,June 5th 2020, 2:41:20 pm -04:00, -04\n",
      "pilot_cg2,June 9th 2020, 5:06:13 pm -04:00, -04\n",
      "pilot_aya4,June 10th 2020, 9:34:52 am -04:00, -04\n",
      "pilot_aya5,June 10th 2020, 11:57:06 pm -04:00, -04\n",
      "pilot_aya8,June 12th 2020, 4:00:08 pm -04:00, -04\n",
      "pilot_aya2,June 13th 2020, 12:36:14 pm -04:00, -04\n",
      "elise_aya,June 14th 2020, 4:30:54 pm -04:00, -04\n",
      "pilot_aya1,June 15th 2020, 9:00:21 pm -04:00, -04\n",
      "annisa_aya,June 15th 2020, 10:45:08 pm -04:00, -04\n",
      "pilot_aya15,June 18th 2020, 9:48:20 pm -07:00, -07\n",
      "susan_aya,June 19th 2020, 8:52:18 am -04:00, -04\n",
      "pilot_aya11,June 19th 2020, 9:00:11 pm -04:00, -04\n",
      "pilot_aya6,June 24th 2020, 9:00:39 pm -04:00, -04\n",
      "pilot_aya7,June 27th 2020, 7:16:48 pm -04:00, -04\n",
      "pilot_cg3,July 12th 2020, 11:28:30 pm -07:00, -07\n",
      "pilot_aya9,July 14th 2020, 4:04:57 pm -04:00, -04\n",
      "pilot_aya10,July 25th 2020, 6:06:03 pm -04:00, -04\n",
      "liying_aya,September 5th 2020, 8:36:16 am -04:00, -04\n",
      "admin2,October 7th 2020, 7:19:15 pm -04:00, -04\n",
      "murphy_aya,October 12th 2020, 1:16:08 pm -04:00, -04\n",
      "marcus_aya,October 21st 2020, 5:15:13 pm -04:00, -04\n",
      "julie_aya,November 15th 2020, 9:42:14 pm -05:00, -05\n",
      "elisa_aya,November 23rd 2020, 1:23:14 am -05:00, -05\n",
      "test,test, test\n",
      "k_zuromski,December 15th 2020, 11:54:15 pm -05:00, -05\n",
      "lake_aya,December 17th 2020, 6:01:14 pm -05:00, -05\n",
      "frank_aya,December 18th 2020, 11:17:23 am -05:00, -05\n",
      "hannah_aya,December 21st 2020, 10:54:28 pm -05:00, -05\n",
      "mash_aya,December 23rd 2020, 11:06:30 am -08:00, -08\n",
      "chloe_aya,December 23rd 2020, 6:00:49 pm -10:00, -10\n",
      "eura_aya,December 24th 2020, 12:15:30 pm -05:00, -05\n",
      "samurphy11,December 25th 2020, 4:52:17 pm -05:00, -05\n",
      "sarah_sara,December 26th 2020, 11:00:51 am -05:00, -05\n",
      "phillip_sara,December 26th 2020, 6:00:26 pm -06:00, -06\n"
     ]
    }
   ],
   "source": [
    "def print_timezone_for_user_id():\n",
    "    mysql_config_file = \"./config/saraSqlConfig.json\"\n",
    "    \n",
    "    with open(mysql_config_file) as f:\n",
    "        mysql_connect_object = json.load(f)\n",
    "    \n",
    "    db = mysql.connect(\n",
    "        host = mysql_connect_object[\"host\"],\n",
    "        port = mysql_connect_object[\"port\"],\n",
    "        user = mysql_connect_object[\"user\"],\n",
    "        passwd = mysql_connect_object[\"passwd\"],\n",
    "        database = mysql_connect_object[\"database\"]\n",
    "    )\n",
    "    \n",
    "    cursor = db.cursor()\n",
    "    select_statement = \"SELECT * FROM SARAApp.user_ids WHERE (user_id,currentTimeTs) IN  \\\n",
    "                            ( SELECT user_id, MAX(currentTimeTs) \\\n",
    "                            FROM SARAApp.user_ids \\\n",
    "                            GROUP BY user_id \\\n",
    "                            )  AND user_id = \" + '\"' +  + '\"'\n",
    "    \n",
    "    cursor.execute(select_statement)\n",
    "    aware_id_user_ids = cursor.fetchall()\n",
    "    for x in aware_id_user_ids:\n",
    "        \n",
    "        readable_ts = x[3]\n",
    "        \n",
    "        splitted_parts = readable_ts.split(\" \")\n",
    "        if len(splitted_parts) == 0:\n",
    "            continue\n",
    "            \n",
    "        print(str(x[1]) + \",\" + str(x[3]) + \", \" + splitted_parts[-1].split(\":\")[0])\n",
    "        # print(str(x[1]) + \",\" + splitted_parts[-1].split(\":\")[0])\n",
    "    \n",
    "    db.close()\n",
    "    \n",
    "print_timezone_for_user_id()"
   ]
  },
  {
   "cell_type": "code",
   "execution_count": null,
   "metadata": {},
   "outputs": [],
   "source": []
  }
 ],
 "metadata": {
  "kernelspec": {
   "display_name": "Python 3",
   "language": "python",
   "name": "python3"
  },
  "language_info": {
   "codemirror_mode": {
    "name": "ipython",
    "version": 3
   },
   "file_extension": ".py",
   "mimetype": "text/x-python",
   "name": "python",
   "nbconvert_exporter": "python",
   "pygments_lexer": "ipython3",
   "version": "3.7.7"
  }
 },
 "nbformat": 4,
 "nbformat_minor": 4
}
