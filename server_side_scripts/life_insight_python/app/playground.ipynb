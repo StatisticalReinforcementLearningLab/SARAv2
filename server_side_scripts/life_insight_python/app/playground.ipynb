{
 "metadata": {
  "language_info": {
   "codemirror_mode": {
    "name": "ipython",
    "version": 3
   },
   "file_extension": ".py",
   "mimetype": "text/x-python",
   "name": "python",
   "nbconvert_exporter": "python",
   "pygments_lexer": "ipython3",
   "version": "3.7.7-final"
  },
  "orig_nbformat": 2,
  "kernelspec": {
   "name": "python3",
   "display_name": "Python 3"
  }
 },
 "nbformat": 4,
 "nbformat_minor": 2,
 "cells": [
  {
   "cell_type": "code",
   "execution_count": 20,
   "metadata": {},
   "outputs": [
    {
     "output_type": "stream",
     "name": "stdout",
     "text": [
      "\u001b[33mWARNING: You are using pip version 20.1.1; however, version 20.2.4 is available.\nYou should consider upgrading via the '/usr/local/opt/python/bin/python3.7 -m pip install --upgrade pip' command.\u001b[0m\n"
     ]
    }
   ],
   "source": [
    "!pip install -q altair_saver\n"
   ]
  },
  {
   "cell_type": "code",
   "execution_count": 21,
   "metadata": {},
   "outputs": [
    {
     "output_type": "stream",
     "name": "stdout",
     "text": [
      "\u001b[K\u001b[?25h[canvas] Success: \"/Users/mash2/Dropbox (PAC LAB)/codes/ionic_projects/SARAV3/SARA_modular/node_modules/canvas/build/Release/canvas.node\" is installed via remote\n",
      "\u001b[K\u001b[?25h+ vega-lite@4.17.0\n",
      "+ vega-cli@5.17.0\n",
      "+ canvas@2.6.1\n",
      "updated 3 packages and audited 1608 packages in 46.349s\n",
      "found \u001b[91m982\u001b[0m vulnerabilities (720 \u001b[1mlow\u001b[0m, 5 \u001b[93mmoderate\u001b[0m, 257 \u001b[91mhigh\u001b[0m)\n",
      "  run `npm audit fix` to fix them, or `npm audit` for details\n"
     ]
    }
   ],
   "source": [
    "!npm install --silent vega-lite vega-cli canvas"
   ]
  },
  {
   "cell_type": "code",
   "execution_count": 22,
   "metadata": {},
   "outputs": [
    {
     "output_type": "display_data",
     "data": {
      "text/html": "\n<div id=\"altair-viz-8c501a98dfc4484ba8aaa006d706db39\"></div>\n<script type=\"text/javascript\">\n  (function(spec, embedOpt){\n    let outputDiv = document.currentScript.previousElementSibling;\n    if (outputDiv.id !== \"altair-viz-8c501a98dfc4484ba8aaa006d706db39\") {\n      outputDiv = document.getElementById(\"altair-viz-8c501a98dfc4484ba8aaa006d706db39\");\n    }\n    const paths = {\n      \"vega\": \"https://cdn.jsdelivr.net/npm//vega@5?noext\",\n      \"vega-lib\": \"https://cdn.jsdelivr.net/npm//vega-lib?noext\",\n      \"vega-lite\": \"https://cdn.jsdelivr.net/npm//vega-lite@4.8.1?noext\",\n      \"vega-embed\": \"https://cdn.jsdelivr.net/npm//vega-embed@6?noext\",\n    };\n\n    function loadScript(lib) {\n      return new Promise(function(resolve, reject) {\n        var s = document.createElement('script');\n        s.src = paths[lib];\n        s.async = true;\n        s.onload = () => resolve(paths[lib]);\n        s.onerror = () => reject(`Error loading script: ${paths[lib]}`);\n        document.getElementsByTagName(\"head\")[0].appendChild(s);\n      });\n    }\n\n    function showError(err) {\n      outputDiv.innerHTML = `<div class=\"error\" style=\"color:red;\">${err}</div>`;\n      throw err;\n    }\n\n    function displayChart(vegaEmbed) {\n      vegaEmbed(outputDiv, spec, embedOpt)\n        .catch(err => showError(`Javascript Error: ${err.message}<br>This usually means there's a typo in your chart specification. See the javascript console for the full traceback.`));\n    }\n\n    if(typeof define === \"function\" && define.amd) {\n      requirejs.config({paths});\n      require([\"vega-embed\"], displayChart, err => showError(`Error loading script: ${err.message}`));\n    } else if (typeof vegaEmbed === \"function\") {\n      displayChart(vegaEmbed);\n    } else {\n      loadScript(\"vega\")\n        .then(() => loadScript(\"vega-lite\"))\n        .then(() => loadScript(\"vega-embed\"))\n        .catch(showError)\n        .then(() => displayChart(vegaEmbed));\n    }\n  })({\"config\": {\"view\": {\"continuousWidth\": 400, \"continuousHeight\": 300}}, \"data\": {\"url\": \"https://vega.github.io/vega-datasets/data/cars.json\"}, \"mark\": \"bar\", \"encoding\": {\"x\": {\"type\": \"quantitative\", \"bin\": true, \"field\": \"Miles_per_Gallon\"}, \"y\": {\"type\": \"quantitative\", \"aggregate\": \"count\"}}, \"$schema\": \"https://vega.github.io/schema/vega-lite/v4.8.1.json\"}, {\"mode\": \"vega-lite\"});\n</script>",
      "text/plain": "alt.Chart(...)"
     },
     "metadata": {}
    }
   ],
   "source": [
    "import altair as alt\n",
    "from vega_datasets import data\n",
    "cars = data.cars.url\n",
    "\n",
    "chart = alt.Chart(cars).mark_bar().encode(\n",
    "  x=alt.X('Miles_per_Gallon:Q', bin=True),\n",
    "  y='count()',\n",
    ")\n",
    "\n",
    "chart.display()"
   ]
  },
  {
   "cell_type": "code",
   "execution_count": 23,
   "metadata": {},
   "outputs": [
    {
     "output_type": "stream",
     "name": "stdout",
     "text": [
      "-rw-r--r--  1 mash2  staff   911B Nov  1 13:33 chart.html\n-rw-r--r--  1 mash2  staff   464B Nov  1 13:33 chart.json\n-rw-r--r--  1 mash2  staff    22K Nov  1 13:33 chart.pdf\n-rw-r--r--  1 mash2  staff    14K Nov  1 13:33 chart.png\n-rw-r--r--  1 mash2  staff    10K Nov  1 13:33 chart.svg\n-rw-r--r--  1 mash2  staff   4.4K Nov  1 13:33 chart.vg.json\n"
     ]
    }
   ],
   "source": [
    "for fmt in ['json', 'vg.json', 'html', 'png', 'svg', 'pdf']:\n",
    "  save(chart, f'chart.{fmt}')\n",
    "!ls -lh chart.*"
   ]
  },
  {
   "cell_type": "code",
   "execution_count": 24,
   "metadata": {},
   "outputs": [
    {
     "output_type": "execute_result",
     "data": {
      "text/plain": [
       "                 date  temp\n",
       "0 2010-01-01 00:00:00  39.4\n",
       "1 2010-01-01 01:00:00  39.2\n",
       "2 2010-01-01 02:00:00  39.0\n",
       "3 2010-01-01 03:00:00  38.9\n",
       "4 2010-01-01 04:00:00  38.8"
      ],
      "text/html": "<div>\n<style scoped>\n    .dataframe tbody tr th:only-of-type {\n        vertical-align: middle;\n    }\n\n    .dataframe tbody tr th {\n        vertical-align: top;\n    }\n\n    .dataframe thead th {\n        text-align: right;\n    }\n</style>\n<table border=\"1\" class=\"dataframe\">\n  <thead>\n    <tr style=\"text-align: right;\">\n      <th></th>\n      <th>date</th>\n      <th>temp</th>\n    </tr>\n  </thead>\n  <tbody>\n    <tr>\n      <th>0</th>\n      <td>2010-01-01 00:00:00</td>\n      <td>39.4</td>\n    </tr>\n    <tr>\n      <th>1</th>\n      <td>2010-01-01 01:00:00</td>\n      <td>39.2</td>\n    </tr>\n    <tr>\n      <th>2</th>\n      <td>2010-01-01 02:00:00</td>\n      <td>39.0</td>\n    </tr>\n    <tr>\n      <th>3</th>\n      <td>2010-01-01 03:00:00</td>\n      <td>38.9</td>\n    </tr>\n    <tr>\n      <th>4</th>\n      <td>2010-01-01 04:00:00</td>\n      <td>38.8</td>\n    </tr>\n  </tbody>\n</table>\n</div>"
     },
     "metadata": {},
     "execution_count": 24
    }
   ],
   "source": [
    "from vega_datasets import data\n",
    "\n",
    "temps = data.seattle_temps()\n",
    "temps.head()"
   ]
  },
  {
   "cell_type": "code",
   "execution_count": 25,
   "metadata": {},
   "outputs": [
    {
     "output_type": "execute_result",
     "data": {
      "text/plain": [
       "date    datetime64[ns]\n",
       "temp           float64\n",
       "dtype: object"
      ]
     },
     "metadata": {},
     "execution_count": 25
    }
   ],
   "source": [
    "temps.dtypes"
   ]
  },
  {
   "cell_type": "code",
   "execution_count": 26,
   "metadata": {},
   "outputs": [
    {
     "output_type": "execute_result",
     "data": {
      "text/html": "\n<div id=\"altair-viz-287a4aee4e354bbfac9f9265e03b0dca\"></div>\n<script type=\"text/javascript\">\n  (function(spec, embedOpt){\n    let outputDiv = document.currentScript.previousElementSibling;\n    if (outputDiv.id !== \"altair-viz-287a4aee4e354bbfac9f9265e03b0dca\") {\n      outputDiv = document.getElementById(\"altair-viz-287a4aee4e354bbfac9f9265e03b0dca\");\n    }\n    const paths = {\n      \"vega\": \"https://cdn.jsdelivr.net/npm//vega@5?noext\",\n      \"vega-lib\": \"https://cdn.jsdelivr.net/npm//vega-lib?noext\",\n      \"vega-lite\": \"https://cdn.jsdelivr.net/npm//vega-lite@4.8.1?noext\",\n      \"vega-embed\": \"https://cdn.jsdelivr.net/npm//vega-embed@6?noext\",\n    };\n\n    function loadScript(lib) {\n      return new Promise(function(resolve, reject) {\n        var s = document.createElement('script');\n        s.src = paths[lib];\n        s.async = true;\n        s.onload = () => resolve(paths[lib]);\n        s.onerror = () => reject(`Error loading script: ${paths[lib]}`);\n        document.getElementsByTagName(\"head\")[0].appendChild(s);\n      });\n    }\n\n    function showError(err) {\n      outputDiv.innerHTML = `<div class=\"error\" style=\"color:red;\">${err}</div>`;\n      throw err;\n    }\n\n    function displayChart(vegaEmbed) {\n      vegaEmbed(outputDiv, spec, embedOpt)\n        .catch(err => showError(`Javascript Error: ${err.message}<br>This usually means there's a typo in your chart specification. See the javascript console for the full traceback.`));\n    }\n\n    if(typeof define === \"function\" && define.amd) {\n      requirejs.config({paths});\n      require([\"vega-embed\"], displayChart, err => showError(`Error loading script: ${err.message}`));\n    } else if (typeof vegaEmbed === \"function\") {\n      displayChart(vegaEmbed);\n    } else {\n      loadScript(\"vega\")\n        .then(() => loadScript(\"vega-lite\"))\n        .then(() => loadScript(\"vega-embed\"))\n        .catch(showError)\n        .then(() => displayChart(vegaEmbed));\n    }\n  })({\"config\": {\"view\": {\"continuousWidth\": 400, \"continuousHeight\": 300}}, \"data\": {\"name\": \"data-29152d9ab7dcda1a65f1895ba9b7cc51\"}, \"mark\": \"line\", \"encoding\": {\"x\": {\"type\": \"temporal\", \"field\": \"date\"}, \"y\": {\"type\": \"quantitative\", \"field\": \"temp\"}}, \"$schema\": \"https://vega.github.io/schema/vega-lite/v4.8.1.json\", \"datasets\": {\"data-29152d9ab7dcda1a65f1895ba9b7cc51\": [{\"date\": \"2010-01-01T00:00:00\", \"temp\": 39.4}, {\"date\": \"2010-01-01T01:00:00\", \"temp\": 39.2}, {\"date\": \"2010-01-01T02:00:00\", \"temp\": 39.0}, {\"date\": \"2010-01-01T03:00:00\", \"temp\": 38.9}, {\"date\": \"2010-01-01T04:00:00\", \"temp\": 38.8}, {\"date\": \"2010-01-01T05:00:00\", \"temp\": 38.7}, {\"date\": \"2010-01-01T06:00:00\", \"temp\": 38.7}, {\"date\": \"2010-01-01T07:00:00\", \"temp\": 38.6}, {\"date\": \"2010-01-01T08:00:00\", \"temp\": 38.7}, {\"date\": \"2010-01-01T09:00:00\", \"temp\": 39.2}, {\"date\": \"2010-01-01T10:00:00\", \"temp\": 40.1}, {\"date\": \"2010-01-01T11:00:00\", \"temp\": 41.3}, {\"date\": \"2010-01-01T12:00:00\", \"temp\": 42.5}, {\"date\": \"2010-01-01T13:00:00\", \"temp\": 43.2}, {\"date\": \"2010-01-01T14:00:00\", \"temp\": 43.5}, {\"date\": \"2010-01-01T15:00:00\", \"temp\": 43.3}, {\"date\": \"2010-01-01T16:00:00\", \"temp\": 42.7}, {\"date\": \"2010-01-01T17:00:00\", \"temp\": 41.7}, {\"date\": \"2010-01-01T18:00:00\", \"temp\": 41.2}, {\"date\": \"2010-01-01T19:00:00\", \"temp\": 40.9}, {\"date\": \"2010-01-01T20:00:00\", \"temp\": 40.7}, {\"date\": \"2010-01-01T21:00:00\", \"temp\": 40.4}, {\"date\": \"2010-01-01T22:00:00\", \"temp\": 40.2}, {\"date\": \"2010-01-01T23:00:00\", \"temp\": 39.9}, {\"date\": \"2010-01-02T00:00:00\", \"temp\": 39.6}, {\"date\": \"2010-01-02T01:00:00\", \"temp\": 39.4}, {\"date\": \"2010-01-02T02:00:00\", \"temp\": 39.3}, {\"date\": \"2010-01-02T03:00:00\", \"temp\": 39.1}, {\"date\": \"2010-01-02T04:00:00\", \"temp\": 39.0}, {\"date\": \"2010-01-02T05:00:00\", \"temp\": 38.9}, {\"date\": \"2010-01-02T06:00:00\", \"temp\": 39.0}, {\"date\": \"2010-01-02T07:00:00\", \"temp\": 38.8}, {\"date\": \"2010-01-02T08:00:00\", \"temp\": 38.9}, {\"date\": \"2010-01-02T09:00:00\", \"temp\": 39.5}, {\"date\": \"2010-01-02T10:00:00\", \"temp\": 40.4}, {\"date\": \"2010-01-02T11:00:00\", \"temp\": 41.5}, {\"date\": \"2010-01-02T12:00:00\", \"temp\": 42.7}, {\"date\": \"2010-01-02T13:00:00\", \"temp\": 43.4}, {\"date\": \"2010-01-02T14:00:00\", \"temp\": 43.8}, {\"date\": \"2010-01-02T15:00:00\", \"temp\": 43.6}, {\"date\": \"2010-01-02T16:00:00\", \"temp\": 42.9}, {\"date\": \"2010-01-02T17:00:00\", \"temp\": 41.9}, {\"date\": \"2010-01-02T18:00:00\", \"temp\": 41.4}, {\"date\": \"2010-01-02T19:00:00\", \"temp\": 41.1}, {\"date\": \"2010-01-02T20:00:00\", \"temp\": 40.9}, {\"date\": \"2010-01-02T21:00:00\", \"temp\": 40.6}, {\"date\": \"2010-01-02T22:00:00\", \"temp\": 40.4}, {\"date\": \"2010-01-02T23:00:00\", \"temp\": 40.0}, {\"date\": \"2010-01-03T00:00:00\", \"temp\": 39.8}, {\"date\": \"2010-01-03T01:00:00\", \"temp\": 39.6}, {\"date\": \"2010-01-03T02:00:00\", \"temp\": 39.5}, {\"date\": \"2010-01-03T03:00:00\", \"temp\": 39.3}, {\"date\": \"2010-01-03T04:00:00\", \"temp\": 39.2}, {\"date\": \"2010-01-03T05:00:00\", \"temp\": 39.1}, {\"date\": \"2010-01-03T06:00:00\", \"temp\": 39.1}, {\"date\": \"2010-01-03T07:00:00\", \"temp\": 39.0}, {\"date\": \"2010-01-03T08:00:00\", \"temp\": 39.1}, {\"date\": \"2010-01-03T09:00:00\", \"temp\": 39.7}, {\"date\": \"2010-01-03T10:00:00\", \"temp\": 40.6}, {\"date\": \"2010-01-03T11:00:00\", \"temp\": 41.8}, {\"date\": \"2010-01-03T12:00:00\", \"temp\": 42.9}, {\"date\": \"2010-01-03T13:00:00\", \"temp\": 43.7}, {\"date\": \"2010-01-03T14:00:00\", \"temp\": 44.0}, {\"date\": \"2010-01-03T15:00:00\", \"temp\": 43.8}, {\"date\": \"2010-01-03T16:00:00\", \"temp\": 43.2}, {\"date\": \"2010-01-03T17:00:00\", \"temp\": 42.1}, {\"date\": \"2010-01-03T18:00:00\", \"temp\": 41.6}, {\"date\": \"2010-01-03T19:00:00\", \"temp\": 41.3}, {\"date\": \"2010-01-03T20:00:00\", \"temp\": 41.2}, {\"date\": \"2010-01-03T21:00:00\", \"temp\": 40.8}, {\"date\": \"2010-01-03T22:00:00\", \"temp\": 40.6}, {\"date\": \"2010-01-03T23:00:00\", \"temp\": 40.3}, {\"date\": \"2010-01-04T00:00:00\", \"temp\": 40.0}, {\"date\": \"2010-01-04T01:00:00\", \"temp\": 39.8}, {\"date\": \"2010-01-04T02:00:00\", \"temp\": 39.7}, {\"date\": \"2010-01-04T03:00:00\", \"temp\": 39.5}, {\"date\": \"2010-01-04T04:00:00\", \"temp\": 39.3}, {\"date\": \"2010-01-04T05:00:00\", \"temp\": 39.2}, {\"date\": \"2010-01-04T06:00:00\", \"temp\": 39.3}, {\"date\": \"2010-01-04T07:00:00\", \"temp\": 39.2}, {\"date\": \"2010-01-04T08:00:00\", \"temp\": 39.3}, {\"date\": \"2010-01-04T09:00:00\", \"temp\": 39.8}, {\"date\": \"2010-01-04T10:00:00\", \"temp\": 40.8}, {\"date\": \"2010-01-04T11:00:00\", \"temp\": 41.9}, {\"date\": \"2010-01-04T12:00:00\", \"temp\": 43.0}, {\"date\": \"2010-01-04T13:00:00\", \"temp\": 43.7}, {\"date\": \"2010-01-04T14:00:00\", \"temp\": 44.2}, {\"date\": \"2010-01-04T15:00:00\", \"temp\": 44.0}, {\"date\": \"2010-01-04T16:00:00\", \"temp\": 43.4}, {\"date\": \"2010-01-04T17:00:00\", \"temp\": 42.3}, {\"date\": \"2010-01-04T18:00:00\", \"temp\": 41.8}, {\"date\": \"2010-01-04T19:00:00\", \"temp\": 41.5}, {\"date\": \"2010-01-04T20:00:00\", \"temp\": 41.3}, {\"date\": \"2010-01-04T21:00:00\", \"temp\": 41.0}, {\"date\": \"2010-01-04T22:00:00\", \"temp\": 40.8}, {\"date\": \"2010-01-04T23:00:00\", \"temp\": 40.5}, {\"date\": \"2010-01-05T00:00:00\", \"temp\": 40.2}, {\"date\": \"2010-01-05T01:00:00\", \"temp\": 40.0}, {\"date\": \"2010-01-05T02:00:00\", \"temp\": 39.8}, {\"date\": \"2010-01-05T03:00:00\", \"temp\": 39.6}, {\"date\": \"2010-01-05T04:00:00\", \"temp\": 39.5}, {\"date\": \"2010-01-05T05:00:00\", \"temp\": 39.3}, {\"date\": \"2010-01-05T06:00:00\", \"temp\": 39.4}, {\"date\": \"2010-01-05T07:00:00\", \"temp\": 39.3}, {\"date\": \"2010-01-05T08:00:00\", \"temp\": 39.4}, {\"date\": \"2010-01-05T09:00:00\", \"temp\": 40.0}, {\"date\": \"2010-01-05T10:00:00\", \"temp\": 41.0}, {\"date\": \"2010-01-05T11:00:00\", \"temp\": 42.1}, {\"date\": \"2010-01-05T12:00:00\", \"temp\": 43.3}, {\"date\": \"2010-01-05T13:00:00\", \"temp\": 43.9}, {\"date\": \"2010-01-05T14:00:00\", \"temp\": 44.4}, {\"date\": \"2010-01-05T15:00:00\", \"temp\": 44.2}, {\"date\": \"2010-01-05T16:00:00\", \"temp\": 43.6}, {\"date\": \"2010-01-05T17:00:00\", \"temp\": 42.6}, {\"date\": \"2010-01-05T18:00:00\", \"temp\": 42.0}, {\"date\": \"2010-01-05T19:00:00\", \"temp\": 41.8}, {\"date\": \"2010-01-05T20:00:00\", \"temp\": 41.6}, {\"date\": \"2010-01-05T21:00:00\", \"temp\": 41.3}, {\"date\": \"2010-01-05T22:00:00\", \"temp\": 41.1}, {\"date\": \"2010-01-05T23:00:00\", \"temp\": 40.8}, {\"date\": \"2010-01-06T00:00:00\", \"temp\": 40.5}, {\"date\": \"2010-01-06T01:00:00\", \"temp\": 40.3}, {\"date\": \"2010-01-06T02:00:00\", \"temp\": 40.1}, {\"date\": \"2010-01-06T03:00:00\", \"temp\": 39.9}, {\"date\": \"2010-01-06T04:00:00\", \"temp\": 39.7}, {\"date\": \"2010-01-06T05:00:00\", \"temp\": 39.5}, {\"date\": \"2010-01-06T06:00:00\", \"temp\": 39.6}, {\"date\": \"2010-01-06T07:00:00\", \"temp\": 39.5}, {\"date\": \"2010-01-06T08:00:00\", \"temp\": 39.6}, {\"date\": \"2010-01-06T09:00:00\", \"temp\": 40.2}, {\"date\": \"2010-01-06T10:00:00\", \"temp\": 41.2}, {\"date\": \"2010-01-06T11:00:00\", \"temp\": 42.3}, {\"date\": \"2010-01-06T12:00:00\", \"temp\": 43.5}, {\"date\": \"2010-01-06T13:00:00\", \"temp\": 44.2}, {\"date\": \"2010-01-06T14:00:00\", \"temp\": 44.6}, {\"date\": \"2010-01-06T15:00:00\", \"temp\": 44.4}, {\"date\": \"2010-01-06T16:00:00\", \"temp\": 43.8}, {\"date\": \"2010-01-06T17:00:00\", \"temp\": 42.7}, {\"date\": \"2010-01-06T18:00:00\", \"temp\": 42.2}, {\"date\": \"2010-01-06T19:00:00\", \"temp\": 41.9}, {\"date\": \"2010-01-06T20:00:00\", \"temp\": 41.7}, {\"date\": \"2010-01-06T21:00:00\", \"temp\": 41.4}, {\"date\": \"2010-01-06T22:00:00\", \"temp\": 41.2}, {\"date\": \"2010-01-06T23:00:00\", \"temp\": 40.9}, {\"date\": \"2010-01-07T00:00:00\", \"temp\": 40.6}, {\"date\": \"2010-01-07T01:00:00\", \"temp\": 40.4}, {\"date\": \"2010-01-07T02:00:00\", \"temp\": 40.2}, {\"date\": \"2010-01-07T03:00:00\", \"temp\": 40.0}, {\"date\": \"2010-01-07T04:00:00\", \"temp\": 39.8}, {\"date\": \"2010-01-07T05:00:00\", \"temp\": 39.6}, {\"date\": \"2010-01-07T06:00:00\", \"temp\": 39.7}, {\"date\": \"2010-01-07T07:00:00\", \"temp\": 39.7}, {\"date\": \"2010-01-07T08:00:00\", \"temp\": 39.7}, {\"date\": \"2010-01-07T09:00:00\", \"temp\": 40.3}, {\"date\": \"2010-01-07T10:00:00\", \"temp\": 41.3}, {\"date\": \"2010-01-07T11:00:00\", \"temp\": 42.4}, {\"date\": \"2010-01-07T12:00:00\", \"temp\": 43.6}, {\"date\": \"2010-01-07T13:00:00\", \"temp\": 44.3}, {\"date\": \"2010-01-07T14:00:00\", \"temp\": 44.7}, {\"date\": \"2010-01-07T15:00:00\", \"temp\": 44.5}, {\"date\": \"2010-01-07T16:00:00\", \"temp\": 43.9}, {\"date\": \"2010-01-07T17:00:00\", \"temp\": 42.8}, {\"date\": \"2010-01-07T18:00:00\", \"temp\": 42.2}, {\"date\": \"2010-01-07T19:00:00\", \"temp\": 41.9}, {\"date\": \"2010-01-07T20:00:00\", \"temp\": 41.8}, {\"date\": \"2010-01-07T21:00:00\", \"temp\": 41.4}, {\"date\": \"2010-01-07T22:00:00\", \"temp\": 41.2}, {\"date\": \"2010-01-07T23:00:00\", \"temp\": 40.9}, {\"date\": \"2010-01-08T00:00:00\", \"temp\": 40.6}, {\"date\": \"2010-01-08T01:00:00\", \"temp\": 40.4}, {\"date\": \"2010-01-08T02:00:00\", \"temp\": 40.2}, {\"date\": \"2010-01-08T03:00:00\", \"temp\": 40.0}, {\"date\": \"2010-01-08T04:00:00\", \"temp\": 39.8}, {\"date\": \"2010-01-08T05:00:00\", \"temp\": 39.6}, {\"date\": \"2010-01-08T06:00:00\", \"temp\": 39.7}, {\"date\": \"2010-01-08T07:00:00\", \"temp\": 39.6}, {\"date\": \"2010-01-08T08:00:00\", \"temp\": 39.6}, {\"date\": \"2010-01-08T09:00:00\", \"temp\": 40.2}, {\"date\": \"2010-01-08T10:00:00\", \"temp\": 41.2}, {\"date\": \"2010-01-08T11:00:00\", \"temp\": 42.5}, {\"date\": \"2010-01-08T12:00:00\", \"temp\": 43.6}, {\"date\": \"2010-01-08T13:00:00\", \"temp\": 44.3}, {\"date\": \"2010-01-08T14:00:00\", \"temp\": 44.7}, {\"date\": \"2010-01-08T15:00:00\", \"temp\": 44.6}, {\"date\": \"2010-01-08T16:00:00\", \"temp\": 43.9}, {\"date\": \"2010-01-08T17:00:00\", \"temp\": 42.8}, {\"date\": \"2010-01-08T18:00:00\", \"temp\": 42.2}, {\"date\": \"2010-01-08T19:00:00\", \"temp\": 42.0}, {\"date\": \"2010-01-08T20:00:00\", \"temp\": 41.8}, {\"date\": \"2010-01-08T21:00:00\", \"temp\": 41.4}, {\"date\": \"2010-01-08T22:00:00\", \"temp\": 41.2}, {\"date\": \"2010-01-08T23:00:00\", \"temp\": 40.9}, {\"date\": \"2010-01-09T00:00:00\", \"temp\": 40.6}, {\"date\": \"2010-01-09T01:00:00\", \"temp\": 40.3}, {\"date\": \"2010-01-09T02:00:00\", \"temp\": 40.1}, {\"date\": \"2010-01-09T03:00:00\", \"temp\": 39.9}, {\"date\": \"2010-01-09T04:00:00\", \"temp\": 39.7}, {\"date\": \"2010-01-09T05:00:00\", \"temp\": 39.5}, {\"date\": \"2010-01-09T06:00:00\", \"temp\": 39.5}, {\"date\": \"2010-01-09T07:00:00\", \"temp\": 39.5}, {\"date\": \"2010-01-09T08:00:00\", \"temp\": 39.5}, {\"date\": \"2010-01-09T09:00:00\", \"temp\": 40.1}, {\"date\": \"2010-01-09T10:00:00\", \"temp\": 41.1}, {\"date\": \"2010-01-09T11:00:00\", \"temp\": 42.3}, {\"date\": \"2010-01-09T12:00:00\", \"temp\": 43.5}, {\"date\": \"2010-01-09T13:00:00\", \"temp\": 44.2}, {\"date\": \"2010-01-09T14:00:00\", \"temp\": 44.7}, {\"date\": \"2010-01-09T15:00:00\", \"temp\": 44.6}, {\"date\": \"2010-01-09T16:00:00\", \"temp\": 44.0}, {\"date\": \"2010-01-09T17:00:00\", \"temp\": 42.8}, {\"date\": \"2010-01-09T18:00:00\", \"temp\": 42.2}, {\"date\": \"2010-01-09T19:00:00\", \"temp\": 42.0}, {\"date\": \"2010-01-09T20:00:00\", \"temp\": 41.8}, {\"date\": \"2010-01-09T21:00:00\", \"temp\": 41.4}, {\"date\": \"2010-01-09T22:00:00\", \"temp\": 41.2}, {\"date\": \"2010-01-09T23:00:00\", \"temp\": 40.9}, {\"date\": \"2010-01-10T00:00:00\", \"temp\": 40.6}, {\"date\": \"2010-01-10T01:00:00\", \"temp\": 40.3}, {\"date\": \"2010-01-10T02:00:00\", \"temp\": 40.1}, {\"date\": \"2010-01-10T03:00:00\", \"temp\": 39.8}, {\"date\": \"2010-01-10T04:00:00\", \"temp\": 39.6}, {\"date\": \"2010-01-10T05:00:00\", \"temp\": 39.4}, {\"date\": \"2010-01-10T06:00:00\", \"temp\": 39.5}, {\"date\": \"2010-01-10T07:00:00\", \"temp\": 39.5}, {\"date\": \"2010-01-10T08:00:00\", \"temp\": 39.5}, {\"date\": \"2010-01-10T09:00:00\", \"temp\": 40.1}, {\"date\": \"2010-01-10T10:00:00\", \"temp\": 41.1}, {\"date\": \"2010-01-10T11:00:00\", \"temp\": 42.3}, {\"date\": \"2010-01-10T12:00:00\", \"temp\": 43.5}, {\"date\": \"2010-01-10T13:00:00\", \"temp\": 44.2}, {\"date\": \"2010-01-10T14:00:00\", \"temp\": 44.7}, {\"date\": \"2010-01-10T15:00:00\", \"temp\": 44.6}, {\"date\": \"2010-01-10T16:00:00\", \"temp\": 44.0}, {\"date\": \"2010-01-10T17:00:00\", \"temp\": 42.8}, {\"date\": \"2010-01-10T18:00:00\", \"temp\": 42.2}, {\"date\": \"2010-01-10T19:00:00\", \"temp\": 42.0}, {\"date\": \"2010-01-10T20:00:00\", \"temp\": 41.8}, {\"date\": \"2010-01-10T21:00:00\", \"temp\": 41.5}, {\"date\": \"2010-01-10T22:00:00\", \"temp\": 41.2}, {\"date\": \"2010-01-10T23:00:00\", \"temp\": 41.0}, {\"date\": \"2010-01-11T00:00:00\", \"temp\": 40.6}, {\"date\": \"2010-01-11T01:00:00\", \"temp\": 40.3}, {\"date\": \"2010-01-11T02:00:00\", \"temp\": 40.1}, {\"date\": \"2010-01-11T03:00:00\", \"temp\": 39.9}, {\"date\": \"2010-01-11T04:00:00\", \"temp\": 39.7}, {\"date\": \"2010-01-11T05:00:00\", \"temp\": 39.5}, {\"date\": \"2010-01-11T06:00:00\", \"temp\": 39.6}, {\"date\": \"2010-01-11T07:00:00\", \"temp\": 39.5}, {\"date\": \"2010-01-11T08:00:00\", \"temp\": 39.5}, {\"date\": \"2010-01-11T09:00:00\", \"temp\": 40.1}, {\"date\": \"2010-01-11T10:00:00\", \"temp\": 41.2}, {\"date\": \"2010-01-11T11:00:00\", \"temp\": 42.4}, {\"date\": \"2010-01-11T12:00:00\", \"temp\": 43.6}, {\"date\": \"2010-01-11T13:00:00\", \"temp\": 44.4}, {\"date\": \"2010-01-11T14:00:00\", \"temp\": 44.8}, {\"date\": \"2010-01-11T15:00:00\", \"temp\": 44.8}, {\"date\": \"2010-01-11T16:00:00\", \"temp\": 44.1}, {\"date\": \"2010-01-11T17:00:00\", \"temp\": 42.9}, {\"date\": \"2010-01-11T18:00:00\", \"temp\": 42.3}, {\"date\": \"2010-01-11T19:00:00\", \"temp\": 42.1}, {\"date\": \"2010-01-11T20:00:00\", \"temp\": 41.9}, {\"date\": \"2010-01-11T21:00:00\", \"temp\": 41.6}, {\"date\": \"2010-01-11T22:00:00\", \"temp\": 41.3}, {\"date\": \"2010-01-11T23:00:00\", \"temp\": 41.1}, {\"date\": \"2010-01-12T00:00:00\", \"temp\": 40.7}, {\"date\": \"2010-01-12T01:00:00\", \"temp\": 40.4}, {\"date\": \"2010-01-12T02:00:00\", \"temp\": 40.2}, {\"date\": \"2010-01-12T03:00:00\", \"temp\": 39.9}, {\"date\": \"2010-01-12T04:00:00\", \"temp\": 39.7}, {\"date\": \"2010-01-12T05:00:00\", \"temp\": 39.6}, {\"date\": \"2010-01-12T06:00:00\", \"temp\": 39.6}, {\"date\": \"2010-01-12T07:00:00\", \"temp\": 39.6}, {\"date\": \"2010-01-12T08:00:00\", \"temp\": 39.6}, {\"date\": \"2010-01-12T09:00:00\", \"temp\": 40.1}, {\"date\": \"2010-01-12T10:00:00\", \"temp\": 41.2}, {\"date\": \"2010-01-12T11:00:00\", \"temp\": 42.5}, {\"date\": \"2010-01-12T12:00:00\", \"temp\": 43.6}, {\"date\": \"2010-01-12T13:00:00\", \"temp\": 44.4}, {\"date\": \"2010-01-12T14:00:00\", \"temp\": 44.9}, {\"date\": \"2010-01-12T15:00:00\", \"temp\": 44.9}, {\"date\": \"2010-01-12T16:00:00\", \"temp\": 44.3}, {\"date\": \"2010-01-12T17:00:00\", \"temp\": 43.0}, {\"date\": \"2010-01-12T18:00:00\", \"temp\": 42.4}, {\"date\": \"2010-01-12T19:00:00\", \"temp\": 42.2}, {\"date\": \"2010-01-12T20:00:00\", \"temp\": 42.0}, {\"date\": \"2010-01-12T21:00:00\", \"temp\": 41.6}, {\"date\": \"2010-01-12T22:00:00\", \"temp\": 41.3}, {\"date\": \"2010-01-12T23:00:00\", \"temp\": 41.1}, {\"date\": \"2010-01-13T00:00:00\", \"temp\": 40.7}, {\"date\": \"2010-01-13T01:00:00\", \"temp\": 40.4}, {\"date\": \"2010-01-13T02:00:00\", \"temp\": 40.2}, {\"date\": \"2010-01-13T03:00:00\", \"temp\": 40.0}, {\"date\": \"2010-01-13T04:00:00\", \"temp\": 39.8}, {\"date\": \"2010-01-13T05:00:00\", \"temp\": 39.6}, {\"date\": \"2010-01-13T06:00:00\", \"temp\": 39.7}, {\"date\": \"2010-01-13T07:00:00\", \"temp\": 39.7}, {\"date\": \"2010-01-13T08:00:00\", \"temp\": 39.7}, {\"date\": \"2010-01-13T09:00:00\", \"temp\": 40.3}, {\"date\": \"2010-01-13T10:00:00\", \"temp\": 41.4}, {\"date\": \"2010-01-13T11:00:00\", \"temp\": 42.7}, {\"date\": \"2010-01-13T12:00:00\", \"temp\": 43.8}, {\"date\": \"2010-01-13T13:00:00\", \"temp\": 44.6}, {\"date\": \"2010-01-13T14:00:00\", \"temp\": 45.1}, {\"date\": \"2010-01-13T15:00:00\", \"temp\": 45.1}, {\"date\": \"2010-01-13T16:00:00\", \"temp\": 44.5}, {\"date\": \"2010-01-13T17:00:00\", \"temp\": 43.3}, {\"date\": \"2010-01-13T18:00:00\", \"temp\": 42.6}, {\"date\": \"2010-01-13T19:00:00\", \"temp\": 42.5}, {\"date\": \"2010-01-13T20:00:00\", \"temp\": 42.2}, {\"date\": \"2010-01-13T21:00:00\", \"temp\": 41.8}, {\"date\": \"2010-01-13T22:00:00\", \"temp\": 41.5}, {\"date\": \"2010-01-13T23:00:00\", \"temp\": 41.3}, {\"date\": \"2010-01-14T00:00:00\", \"temp\": 40.9}, {\"date\": \"2010-01-14T01:00:00\", \"temp\": 40.6}, {\"date\": \"2010-01-14T02:00:00\", \"temp\": 40.4}, {\"date\": \"2010-01-14T03:00:00\", \"temp\": 40.2}, {\"date\": \"2010-01-14T04:00:00\", \"temp\": 39.9}, {\"date\": \"2010-01-14T05:00:00\", \"temp\": 39.8}, {\"date\": \"2010-01-14T06:00:00\", \"temp\": 39.8}, {\"date\": \"2010-01-14T07:00:00\", \"temp\": 39.8}, {\"date\": \"2010-01-14T08:00:00\", \"temp\": 39.8}, {\"date\": \"2010-01-14T09:00:00\", \"temp\": 40.4}, {\"date\": \"2010-01-14T10:00:00\", \"temp\": 41.5}, {\"date\": \"2010-01-14T11:00:00\", \"temp\": 42.8}, {\"date\": \"2010-01-14T12:00:00\", \"temp\": 43.9}, {\"date\": \"2010-01-14T13:00:00\", \"temp\": 44.8}, {\"date\": \"2010-01-14T14:00:00\", \"temp\": 45.2}, {\"date\": \"2010-01-14T15:00:00\", \"temp\": 45.2}, {\"date\": \"2010-01-14T16:00:00\", \"temp\": 44.6}, {\"date\": \"2010-01-14T17:00:00\", \"temp\": 43.4}, {\"date\": \"2010-01-14T18:00:00\", \"temp\": 42.7}, {\"date\": \"2010-01-14T19:00:00\", \"temp\": 42.5}, {\"date\": \"2010-01-14T20:00:00\", \"temp\": 42.1}, {\"date\": \"2010-01-14T21:00:00\", \"temp\": 41.8}, {\"date\": \"2010-01-14T22:00:00\", \"temp\": 41.5}, {\"date\": \"2010-01-14T23:00:00\", \"temp\": 41.3}]}}, {\"mode\": \"vega-lite\"});\n</script>",
      "text/plain": [
       "alt.Chart(...)"
      ]
     },
     "metadata": {},
     "execution_count": 26
    }
   ],
   "source": [
    "temps = temps[temps.date < '2010-01-15']\n",
    "\n",
    "alt.Chart(temps).mark_line().encode(\n",
    "    x='date:T',\n",
    "    y='temp:Q'\n",
    ")"
   ]
  },
  {
   "cell_type": "code",
   "execution_count": 27,
   "metadata": {},
   "outputs": [],
   "source": [
    "def getSqlConfigFromJSON(configFileName):\n",
    "    \"\"\"\n",
    "    Loads full mysql connect object from database returns the value as a JSON object. Format of the JSON object \n",
    "    is the following:\n",
    "    \n",
    "        {\n",
    "            \"host\": \"hostname.com\",\n",
    "            \"port\": 99999,\n",
    "            \"user\": \"root\",\n",
    "            \"passwd\": \"passworkd\",\n",
    "            \"database\": \"database_or_schema_name\"\n",
    "        }\n",
    "    \"\"\"\n",
    "    \n",
    "    with open(configFileName) as f:\n",
    "        mysqlConnectObject = json.load(f)\n",
    "        \n",
    "    return mysqlConnectObject\n",
    "\n",
    "\n",
    "\n",
    "def getScreenUsageDataFrame(user_id, start_unix_time, end_unix_time):\n",
    "    \"\"\"\n",
    "    Select screen usage data points into the test database.\n",
    "    \"\"\"\n",
    "\n",
    "    print('Fetching data')\n",
    "    \n",
    "    #get sql connect config\n",
    "    mysqlConnectObject = getSqlConfigFromJSON('./awareSqlConfig.json')\n",
    "\n",
    "    # connect to db\n",
    "    db = mysql.connect(\n",
    "        host = mysqlConnectObject[\"host\"],\n",
    "        port = mysqlConnectObject[\"port\"],\n",
    "        user = mysqlConnectObject[\"user\"],\n",
    "        passwd = mysqlConnectObject[\"passwd\"],\n",
    "        database = mysqlConnectObject[\"database\"]\n",
    "    )\n",
    "    cursor = db.cursor()\n",
    "\n",
    "    # fetch data.\n",
    "    where_clause = \"device_id='\" + user_id + \"'\"\n",
    "    where_clause = where_clause + \" AND timestamp > \" + str(start_unix_time) \n",
    "    where_clause = where_clause + \" AND timestamp < \" + str(end_unix_time) \n",
    "    where_clause = \"(\" + where_clause +  \")\"\n",
    "    cursor.execute(\"SELECT * FROM screen where \" + where_clause + \" order by timestamp asc;\")\n",
    "    recordsInScreenTable = cursor.fetchall()\n",
    "\n",
    "    # initialize variables\n",
    "    dateStringForAppUsageList = []\n",
    "    timestampForAppUsageList = []\n",
    "    screenTimeValueList = []\n",
    "    \n",
    "    print('creating data frame')\n",
    "    for row in recordsInScreenTable:\n",
    "        \n",
    "        ts = row[1]/1000 - 7*60*60 #convert to pacific timezone. ToDo: change fixed value.\n",
    "        timestampForAppUsageList.append(ts)\n",
    "        \n",
    "        datetime_ts = datetime.utcfromtimestamp(ts) \n",
    "        dateStringForAppUsageList.append(datetime_ts.strftime('%Y-%m-%d %I:%M:%S %p'))\n",
    "        screenTimeValueList.append(row[3])\n",
    "                \n",
    "    appUsageData = {\n",
    "        'date': dateStringForAppUsageList,\n",
    "        'screenTime': screenTimeValueList   \n",
    "    }\n",
    "    \n",
    "    #-- convert to pandas dataframe, with time based indexing\n",
    "    appUsageDataFrame = pd.DataFrame(appUsageData, columns = ['date','screenTime']) \n",
    "    appUsageDataFrame['date'] = pd.to_datetime(appUsageDataFrame['date'], format='%Y-%m-%d %I:%M:%S %p')\n",
    "    \n",
    "    return appUsageDataFrame"
   ]
  },
  {
   "cell_type": "code",
   "execution_count": 31,
   "metadata": {},
   "outputs": [
    {
     "output_type": "stream",
     "name": "stdout",
     "text": [
      "Fetching data\n",
      "creating data frame\n"
     ]
    }
   ],
   "source": [
    "import mysql.connector as mysql\n",
    "from datetime import datetime\n",
    "import time\n",
    "import json \n",
    "\n",
    "today = datetime.today()\n",
    "s = today.strftime(\"%m/%d/%Y\")\n",
    "end_unix_time = 1000*time.mktime(datetime.strptime(s + \" 02:00 PM\", \"%m/%d/%Y %I:%M %p\").timetuple())\n",
    "start_unix_time = end_unix_time - 18*3600*1000\n",
    "user_id = '88315702-a3e6-4296-8437-0a56b4c4f03b'\n",
    "appUsageDataFrame = getScreenUsageDataFrame(user_id, start_unix_time, end_unix_time)"
   ]
  },
  {
   "cell_type": "code",
   "execution_count": 32,
   "metadata": {},
   "outputs": [
    {
     "output_type": "execute_result",
     "data": {
      "text/plain": [
       "                 date  screenTime\n",
       "0 2020-10-31 21:16:45           3\n",
       "1 2020-10-31 21:16:46           2\n",
       "2 2020-10-31 21:17:02           3\n",
       "3 2020-10-31 21:17:37           2\n",
       "4 2020-10-31 21:41:28           3"
      ],
      "text/html": "<div>\n<style scoped>\n    .dataframe tbody tr th:only-of-type {\n        vertical-align: middle;\n    }\n\n    .dataframe tbody tr th {\n        vertical-align: top;\n    }\n\n    .dataframe thead th {\n        text-align: right;\n    }\n</style>\n<table border=\"1\" class=\"dataframe\">\n  <thead>\n    <tr style=\"text-align: right;\">\n      <th></th>\n      <th>date</th>\n      <th>screenTime</th>\n    </tr>\n  </thead>\n  <tbody>\n    <tr>\n      <th>0</th>\n      <td>2020-10-31 21:16:45</td>\n      <td>3</td>\n    </tr>\n    <tr>\n      <th>1</th>\n      <td>2020-10-31 21:16:46</td>\n      <td>2</td>\n    </tr>\n    <tr>\n      <th>2</th>\n      <td>2020-10-31 21:17:02</td>\n      <td>3</td>\n    </tr>\n    <tr>\n      <th>3</th>\n      <td>2020-10-31 21:17:37</td>\n      <td>2</td>\n    </tr>\n    <tr>\n      <th>4</th>\n      <td>2020-10-31 21:41:28</td>\n      <td>3</td>\n    </tr>\n  </tbody>\n</table>\n</div>"
     },
     "metadata": {},
     "execution_count": 32
    }
   ],
   "source": [
    "appUsageDataFrame.head()"
   ]
  },
  {
   "cell_type": "code",
   "execution_count": 33,
   "metadata": {},
   "outputs": [
    {
     "output_type": "execute_result",
     "data": {
      "text/plain": [
       "date          datetime64[ns]\n",
       "screenTime             int64\n",
       "dtype: object"
      ]
     },
     "metadata": {},
     "execution_count": 33
    }
   ],
   "source": [
    "appUsageDataFrame.dtypes"
   ]
  },
  {
   "cell_type": "code",
   "execution_count": 41,
   "metadata": {},
   "outputs": [
    {
     "output_type": "execute_result",
     "data": {
      "text/html": "\n<div id=\"altair-viz-c4fa210af09d429490fb0d35ee81d182\"></div>\n<script type=\"text/javascript\">\n  (function(spec, embedOpt){\n    let outputDiv = document.currentScript.previousElementSibling;\n    if (outputDiv.id !== \"altair-viz-c4fa210af09d429490fb0d35ee81d182\") {\n      outputDiv = document.getElementById(\"altair-viz-c4fa210af09d429490fb0d35ee81d182\");\n    }\n    const paths = {\n      \"vega\": \"https://cdn.jsdelivr.net/npm//vega@5?noext\",\n      \"vega-lib\": \"https://cdn.jsdelivr.net/npm//vega-lib?noext\",\n      \"vega-lite\": \"https://cdn.jsdelivr.net/npm//vega-lite@4.8.1?noext\",\n      \"vega-embed\": \"https://cdn.jsdelivr.net/npm//vega-embed@6?noext\",\n    };\n\n    function loadScript(lib) {\n      return new Promise(function(resolve, reject) {\n        var s = document.createElement('script');\n        s.src = paths[lib];\n        s.async = true;\n        s.onload = () => resolve(paths[lib]);\n        s.onerror = () => reject(`Error loading script: ${paths[lib]}`);\n        document.getElementsByTagName(\"head\")[0].appendChild(s);\n      });\n    }\n\n    function showError(err) {\n      outputDiv.innerHTML = `<div class=\"error\" style=\"color:red;\">${err}</div>`;\n      throw err;\n    }\n\n    function displayChart(vegaEmbed) {\n      vegaEmbed(outputDiv, spec, embedOpt)\n        .catch(err => showError(`Javascript Error: ${err.message}<br>This usually means there's a typo in your chart specification. See the javascript console for the full traceback.`));\n    }\n\n    if(typeof define === \"function\" && define.amd) {\n      requirejs.config({paths});\n      require([\"vega-embed\"], displayChart, err => showError(`Error loading script: ${err.message}`));\n    } else if (typeof vegaEmbed === \"function\") {\n      displayChart(vegaEmbed);\n    } else {\n      loadScript(\"vega\")\n        .then(() => loadScript(\"vega-lite\"))\n        .then(() => loadScript(\"vega-embed\"))\n        .catch(showError)\n        .then(() => displayChart(vegaEmbed));\n    }\n  })({\"config\": {\"view\": {\"continuousWidth\": 400, \"continuousHeight\": 300}}, \"data\": {\"name\": \"data-1fafdb51d9c247bbd78249950051bf9b\"}, \"mark\": {\"type\": \"circle\", \"size\": 60}, \"encoding\": {\"x\": {\"type\": \"temporal\", \"field\": \"date\"}, \"y\": {\"type\": \"quantitative\", \"field\": \"screenTime\", \"scale\": {\"domain\": [1.5, 3.5]}}}, \"$schema\": \"https://vega.github.io/schema/vega-lite/v4.8.1.json\", \"datasets\": {\"data-1fafdb51d9c247bbd78249950051bf9b\": [{\"date\": \"2020-10-31T21:16:45\", \"screenTime\": 3}, {\"date\": \"2020-10-31T21:16:46\", \"screenTime\": 2}, {\"date\": \"2020-10-31T21:17:02\", \"screenTime\": 3}, {\"date\": \"2020-10-31T21:17:37\", \"screenTime\": 2}, {\"date\": \"2020-10-31T21:41:28\", \"screenTime\": 3}, {\"date\": \"2020-10-31T22:52:35\", \"screenTime\": 2}, {\"date\": \"2020-10-31T23:42:23\", \"screenTime\": 3}, {\"date\": \"2020-10-31T23:59:19\", \"screenTime\": 2}, {\"date\": \"2020-11-01T07:39:08\", \"screenTime\": 3}]}}, {\"mode\": \"vega-lite\"});\n</script>",
      "text/plain": [
       "alt.Chart(...)"
      ]
     },
     "metadata": {},
     "execution_count": 41
    }
   ],
   "source": [
    "alt.Chart(appUsageDataFrame).mark_circle(size=60).encode(\n",
    "    x='date:T',\n",
    "    y={\"field\": 'screenTime', \"type\": \"quantitative\", \"scale\": {\"domain\": [1.5,3.5]}}\n",
    ")"
   ]
  },
  {
   "cell_type": "code",
   "execution_count": null,
   "metadata": {},
   "outputs": [],
   "source": []
  }
 ]
}