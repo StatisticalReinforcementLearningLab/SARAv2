{
 "cells": [
  {
   "cell_type": "code",
   "execution_count": 6,
   "metadata": {},
   "outputs": [],
   "source": [
    "import mysql.connector as mysql\n",
    "from datetime import datetime\n",
    "import time\n",
    "import pandas as pd\n",
    "import matplotlib.pyplot as plt\n",
    "import json\n",
    "import numpy as np"
   ]
  },
  {
   "cell_type": "code",
   "execution_count": 7,
   "metadata": {},
   "outputs": [
    {
     "data": {
      "application/javascript": [
       "//toggle scrolling for jupyter notebooks.\n",
       "IPython.OutputArea.prototype._should_scroll = function(lines) {\n",
       "    return false;\n",
       "}\n"
      ],
      "text/plain": [
       "<IPython.core.display.Javascript object>"
      ]
     },
     "metadata": {},
     "output_type": "display_data"
    }
   ],
   "source": [
    "%%javascript\n",
    "//toggle scrolling for jupyter notebooks.\n",
    "IPython.OutputArea.prototype._should_scroll = function(lines) {\n",
    "    return false;\n",
    "}"
   ]
  },
  {
   "cell_type": "code",
   "execution_count": 8,
   "metadata": {},
   "outputs": [],
   "source": [
    "def getSqlConfigFromJSON(configFileName):\n",
    "    \"\"\"\n",
    "    Loads full mysql connect object from database returns the value as a JSON object. Format of the JSON object \n",
    "    is the following:\n",
    "    \n",
    "        {\n",
    "            \"host\": \"hostname.com\",\n",
    "            \"port\": 99999,\n",
    "            \"user\": \"root\",\n",
    "            \"passwd\": \"passworkd\",\n",
    "            \"database\": \"database_or_schema_name\"\n",
    "        }\n",
    "        \n",
    "    \"\"\"\n",
    "    \n",
    "    with open(configFileName) as f:\n",
    "        mysqlConnectObject = json.load(f)\n",
    "        \n",
    "    return mysqlConnectObject"
   ]
  },
  {
   "cell_type": "code",
   "execution_count": 9,
   "metadata": {},
   "outputs": [],
   "source": [
    "mysqlConnectObject = getSqlConfigFromJSON('./saraSqlConfig.json')\n",
    "db = mysql.connect(\n",
    "    host = mysqlConnectObject[\"DB_HOST\"],\n",
    "    port = mysqlConnectObject[\"DB_PORT\"],\n",
    "    user = mysqlConnectObject[\"DB_USER\"],\n",
    "    passwd = mysqlConnectObject[\"DB_PASSWORD\"],\n",
    "    database = \"HarvardDev\"\n",
    ")"
   ]
  },
  {
   "cell_type": "code",
   "execution_count": 31,
   "metadata": {},
   "outputs": [],
   "source": [
    "def get_mood(username = 'mash_aya', num_days = 30):\n",
    "    cursor = db.cursor()\n",
    "    sql_command = \"SELECT when_inserted, json_answer FROM HarvardDev.harvardSurvey \" \n",
    "    sql_command = sql_command + \"where user_id=\\\"\"+username +\"\\\" and when_inserted > NOW() - INTERVAL \" + str(num_days) + \" DAY \"\n",
    "    sql_command =  sql_command + \" order by survey_completion_time desc;\"\n",
    "    print(sql_command)\n",
    "\n",
    "    cursor.execute(sql_command)\n",
    "    returnedData = cursor.fetchall()\n",
    "    mood1=[]\n",
    "    mood2=[]\n",
    "    for row in returnedData:\n",
    "        date = row[0]\n",
    "        row_json=json.loads(row[1])\n",
    "        try:\n",
    "            # print(row_json['QMood'])\n",
    "            mood1.append(float(row_json['QMood'].split(\":\")[0]))\n",
    "            mood2.append(float(row_json['QMood'].split(\":\")[1])  + 5)\n",
    "        except:\n",
    "            print(str(date) + \" no mood\")\n",
    "            \n",
    "    return mood1,mood2"
   ]
  },
  {
   "cell_type": "code",
   "execution_count": 40,
   "metadata": {},
   "outputs": [
    {
     "name": "stdout",
     "output_type": "stream",
     "text": [
      "SELECT when_inserted, json_answer FROM HarvardDev.harvardSurvey where user_id=\"mash_aya\" and when_inserted > NOW() - INTERVAL 30 DAY  order by survey_completion_time desc;\n",
      "2020-10-14 01:44:48 no mood\n",
      "2020-10-14 01:31:05 no mood\n",
      "2020-10-14 01:18:55 no mood\n",
      "2020-10-14 01:03:58 no mood\n",
      "2020-10-07 01:30:48 no mood\n",
      "2020-10-07 01:30:47 no mood\n",
      "2020-10-07 01:30:46 no mood\n",
      "2020-10-07 01:30:45 no mood\n",
      "2020-10-07 01:30:43 no mood\n",
      "2020-10-07 01:30:42 no mood\n",
      "2020-10-07 01:30:41 no mood\n",
      "2020-10-07 01:30:40 no mood\n"
     ]
    }
   ],
   "source": [
    "num_days = 30\n",
    "username = 'mash_aya'\n",
    "mood1,mood2 = get_mood(username,num_days)\n",
    "mood_sum = [x+y for x,y in zip(mood2,mood2)]\n",
    "\n",
    "# print(mood1)\n",
    "# print(mood2)"
   ]
  },
  {
   "cell_type": "code",
   "execution_count": 41,
   "metadata": {},
   "outputs": [],
   "source": [
    "#fake data\n",
    "# mood1 = np.random.uniform(-5,5,7)\n",
    "# mood2 = np.random.uniform(-10,0,7)\n",
    "# mood_sum = [x+y for x,y in zip(mood2,mood2)]"
   ]
  },
  {
   "cell_type": "code",
   "execution_count": 43,
   "metadata": {},
   "outputs": [
    {
     "data": {
      "image/png": "[encoded data removed]",
      "text/plain": [
       "<Figure size 720x720 with 1 Axes>"
      ]
     },
     "metadata": {
      "needs_background": "light"
     },
     "output_type": "display_data"
    }
   ],
   "source": [
    "#https://matplotlib.org/3.3.1/tutorials/colors/colormaps.html\n",
    "#https://matplotlib.org/3.1.0/gallery/color/named_colors.html\n",
    "fig, ax = plt.subplots(1, 1, figsize=(10, 10))\n",
    "ax.scatter(mood1,mood2, alpha=0.3, c=mood_sum,cmap='seismic',s=100)\n",
    "ax.grid(1)\n",
    "ax.set_facecolor(\"aliceblue\")\n",
    "ax.set_title(\"Mood for last \"+str(num_days)+\" days\")\n",
    "ax.set_xlabel(r'$Negative \\longrightarrow$ Positive')\n",
    "ax.set_ylabel(r'$Sleepy \\longrightarrow$ Alert')\n",
    "ax.text(-3.5,1.5,\"Stress\",alpha=0.4,fontsize=25)\n",
    "ax.text(-3.5,-2.5,\"Depressed\",alpha=0.4,fontsize=25)\n",
    "ax.text(1.5,1.5,\"Excited\",alpha=0.4,fontsize=25)\n",
    "ax.text(1.5,-2.5,\"Relaxed\",alpha=0.4,fontsize=25)\n",
    "ax.set_xlim(-5,5)\n",
    "ax.set_ylim(-5,5)\n",
    "plt.savefig('mood_'+username+'.jpg')"
   ]
  },
  {
   "cell_type": "code",
   "execution_count": null,
   "metadata": {},
   "outputs": [],
   "source": []
  }
 ],
 "metadata": {
  "kernelspec": {
   "display_name": "Python 3",
   "language": "python",
   "name": "python3"
  },
  "language_info": {
   "codemirror_mode": {
    "name": "ipython",
    "version": 3
   },
   "file_extension": ".py",
   "mimetype": "text/x-python",
   "name": "python",
   "nbconvert_exporter": "python",
   "pygments_lexer": "ipython3",
   "version": "3.7.7"
  }
 },
 "nbformat": 4,
 "nbformat_minor": 2
}
