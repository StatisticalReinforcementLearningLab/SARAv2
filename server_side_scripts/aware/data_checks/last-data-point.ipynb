{
 "cells": [
  {
   "cell_type": "markdown",
   "metadata": {},
   "source": [
    "# Gets last data point for each stream per participant"
   ]
  },
  {
   "cell_type": "code",
   "execution_count": 1,
   "metadata": {},
   "outputs": [],
   "source": [
    "import mysql.connector as mysql\n",
    "from datetime import datetime\n",
    "import time\n",
    "import pandas as pd\n",
    "import matplotlib.pyplot as plt\n",
    "import json\n",
    "import pdb"
   ]
  },
  {
   "cell_type": "code",
   "execution_count": 2,
   "metadata": {},
   "outputs": [
    {
     "name": "stdout",
     "output_type": "stream",
     "text": [
      "/Users/mash2/Dropbox (PAC LAB)/codes/ionic_projects/SARAV3/SARA_modular/server_side_scripts/aware/data_checks\r\n"
     ]
    }
   ],
   "source": [
    "!pwd"
   ]
  },
  {
   "cell_type": "code",
   "execution_count": 3,
   "metadata": {},
   "outputs": [
    {
     "data": {
      "application/javascript": [
       "//toggle scrolling for jupyter notebooks.\n",
       "IPython.OutputArea.prototype._should_scroll = function(lines) {\n",
       "    return false;\n",
       "}\n"
      ],
      "text/plain": [
       "<IPython.core.display.Javascript object>"
      ]
     },
     "metadata": {},
     "output_type": "display_data"
    }
   ],
   "source": [
    "%%javascript\n",
    "//toggle scrolling for jupyter notebooks.\n",
    "IPython.OutputArea.prototype._should_scroll = function(lines) {\n",
    "    return false;\n",
    "}"
   ]
  },
  {
   "cell_type": "code",
   "execution_count": 4,
   "metadata": {},
   "outputs": [],
   "source": [
    "def getSqlConfigFromJSON(configFileName):\n",
    "    \"\"\"\n",
    "    Loads full mysql connect object from database returns the value as a JSON object. Format of the JSON object \n",
    "    is the following:\n",
    "    \n",
    "        {\n",
    "            \"host\": \"hostname.com\",\n",
    "            \"port\": 99999,\n",
    "            \"user\": \"root\",\n",
    "            \"passwd\": \"passworkd\",\n",
    "            \"database\": \"database_or_schema_name\"\n",
    "        }\n",
    "        \n",
    "    \"\"\"\n",
    "    \n",
    "    with open(configFileName) as f:\n",
    "        mysqlConnectObject = json.load(f)\n",
    "        \n",
    "    return mysqlConnectObject"
   ]
  },
  {
   "cell_type": "markdown",
   "metadata": {},
   "source": [
    "## Unique users"
   ]
  },
  {
   "cell_type": "code",
   "execution_count": 9,
   "metadata": {},
   "outputs": [
    {
     "name": "stdout",
     "output_type": "stream",
     "text": [
      "Unique ids are\n"
     ]
    },
    {
     "data": {
      "text/plain": [
       "['36c38a8d-c6d7-48a7-88a5-5f9796b540b6',\n",
       " '7134c8fb-07e9-4075-b3a9-8a0443f9d7a7',\n",
       " '6f0273ed-0b9b-4188-a008-39dfda32247e',\n",
       " '38ce91a4-0cb5-43bf-9e35-60da0202662a',\n",
       " 'b39a842a-9a42-4ef0-aa3f-8a9c2ff6c018']"
      ]
     },
     "execution_count": 9,
     "metadata": {},
     "output_type": "execute_result"
    }
   ],
   "source": [
    "def get_unique_users():\n",
    "    \"\"\"\n",
    "    gets unique users from database\n",
    "    \"\"\"\n",
    "    \n",
    "    #get sql connect config\n",
    "    mysql_connect_object = getSqlConfigFromJSON('./awareSqlConfig.json')\n",
    "\n",
    "    # connect to db\n",
    "    db = mysql.connect(\n",
    "        host = mysql_connect_object[\"host\"],\n",
    "        port = mysql_connect_object[\"port\"],\n",
    "        user = mysql_connect_object[\"user\"],\n",
    "        passwd = mysql_connect_object[\"passwd\"],\n",
    "        database = mysql_connect_object[\"database\"]\n",
    "    )\n",
    "    cursor = db.cursor()\n",
    "\n",
    "    # fetch data\n",
    "    cursor.execute(\"SELECT * FROM aware_device;\")\n",
    "    record_in_user_table = cursor.fetchall()\n",
    "    \n",
    "    # fetch unique ids\n",
    "    unique_aware_ids = []\n",
    "    for row in record_in_user_table:\n",
    "        unique_aware_ids.append(row[2])\n",
    "        \n",
    "    return unique_aware_ids\n",
    "        \n",
    "unique_aware_ids = get_unique_users()\n",
    "\n",
    "print('Unique ids are')\n",
    "unique_aware_ids"
   ]
  },
  {
   "cell_type": "markdown",
   "metadata": {},
   "source": [
    "## Get latest data"
   ]
  },
  {
   "cell_type": "markdown",
   "metadata": {},
   "source": [
    "Todo: \n",
    "- Convert date to readable timestamp value\n",
    "- Get users timezone"
   ]
  },
  {
   "cell_type": "code",
   "execution_count": 17,
   "metadata": {},
   "outputs": [
    {
     "name": "stdout",
     "output_type": "stream",
     "text": [
      "{\n",
      "    \"36c38a8d-c6d7-48a7-88a5-5f9796b540b6\": {\n",
      "        \"locations\": \"2021-05-17 11:35:58 PM UTC\",\n",
      "        \"screen\": \"2021-05-17 09:38:25 PM UTC\"\n",
      "    },\n",
      "    \"38ce91a4-0cb5-43bf-9e35-60da0202662a\": {\n",
      "        \"locations\": \"2021-05-18 07:12:45 AM UTC\",\n",
      "        \"screen\": \"2021-05-18 04:12:57 AM UTC\"\n",
      "    },\n",
      "    \"6f0273ed-0b9b-4188-a008-39dfda32247e\": {\n",
      "        \"locations\": \"2021-05-18 02:53:25 AM UTC\",\n",
      "        \"screen\": \"2021-05-18 02:40:39 AM UTC\"\n",
      "    },\n",
      "    \"7134c8fb-07e9-4075-b3a9-8a0443f9d7a7\": {\n",
      "        \"locations\": \"2021-05-04 06:24:16 AM UTC\",\n",
      "        \"screen\": \"2021-05-03 04:50:15 AM UTC\"\n",
      "    },\n",
      "    \"b39a842a-9a42-4ef0-aa3f-8a9c2ff6c018\": {\n",
      "        \"locations\": \"2021-05-18 04:08:27 AM UTC\",\n",
      "        \"screen\": \"2021-05-18 02:08:02 AM UTC\"\n",
      "    }\n",
      "}\n"
     ]
    }
   ],
   "source": [
    "def get_database_object():\n",
    "    #get sql connect config\n",
    "    mysqlConnectObject = getSqlConfigFromJSON('./awareSqlConfig.json')\n",
    "\n",
    "    # connect to db\n",
    "    db = mysql.connect(\n",
    "        host = mysqlConnectObject[\"host\"],\n",
    "        port = mysqlConnectObject[\"port\"],\n",
    "        user = mysqlConnectObject[\"user\"],\n",
    "        passwd = mysqlConnectObject[\"passwd\"],\n",
    "        database = mysqlConnectObject[\"database\"]\n",
    "    )\n",
    "    \n",
    "    return db\n",
    "\n",
    "def get_latest_for_user(aware_id, table_name, db):\n",
    "    \"\"\"\n",
    "    Returns the latest time for aware_id for the given table.\n",
    "    Time is returned in utc unix time stamp\n",
    "    \"\"\"    \n",
    "    cursor = db.cursor()\n",
    "\n",
    "    # fetch data.\n",
    "    cursor.execute(\"SELECT * FROM \" + table_name + \" where device_id='\" + aware_id + \"' order by timestamp desc limit 1;\")\n",
    "    row = cursor.fetchone()\n",
    "    return row[1]\n",
    "    \n",
    "tables = ['screen', 'locations']\n",
    "\n",
    "db = get_database_object()\n",
    "latest_time = {}\n",
    "for aware_id in unique_aware_ids:\n",
    "    for table in tables:\n",
    "        if aware_id not in latest_time:\n",
    "            latest_time[aware_id] = {}\n",
    "            \n",
    "        ts = get_latest_for_user(aware_id, table, db)\n",
    "        ts = ts/1000        \n",
    "        datetime_ts = datetime.utcfromtimestamp(ts) \n",
    "        latest_time[aware_id][table] = datetime_ts.strftime('%Y-%m-%d %I:%M:%S %p') + \" UTC\"\n",
    "        \n",
    "\n",
    "print(json.dumps(latest_time, indent=4, sort_keys=True))"
   ]
  },
  {
   "cell_type": "code",
   "execution_count": null,
   "metadata": {},
   "outputs": [],
   "source": []
  }
 ],
 "metadata": {
  "kernelspec": {
   "display_name": "Python 3",
   "language": "python",
   "name": "python3"
  },
  "language_info": {
   "codemirror_mode": {
    "name": "ipython",
    "version": 3
   },
   "file_extension": ".py",
   "mimetype": "text/x-python",
   "name": "python",
   "nbconvert_exporter": "python",
   "pygments_lexer": "ipython3",
   "version": "3.7.3"
  }
 },
 "nbformat": 4,
 "nbformat_minor": 4
}
