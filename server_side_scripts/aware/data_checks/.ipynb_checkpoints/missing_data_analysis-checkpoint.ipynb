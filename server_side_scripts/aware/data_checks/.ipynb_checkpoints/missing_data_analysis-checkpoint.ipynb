{
 "cells": [
  {
   "cell_type": "markdown",
   "metadata": {},
   "source": [
    "# Missing analysis for AWARE-iOS\n",
    "\n",
    "We are analyzing missingness of sensor streams. Current investigations focuses on screen on/off, location, step-count (in future, activity pattern) because they are likely related to sleep.\n",
    "\n",
    "This document is in-progress.\n"
   ]
  },
  {
   "cell_type": "code",
   "execution_count": 1,
   "metadata": {},
   "outputs": [],
   "source": [
    "import mysql.connector as mysql\n",
    "from datetime import datetime\n",
    "import time\n",
    "import pandas as pd\n",
    "import matplotlib.pyplot as plt\n",
    "import json\n",
    "import pdb"
   ]
  },
  {
   "cell_type": "code",
   "execution_count": 2,
   "metadata": {},
   "outputs": [
    {
     "name": "stdout",
     "output_type": "stream",
     "text": [
      "/Users/mash2/Dropbox (PAC LAB)/codes/ionic_projects/SARAV3/SARA_modular/server_side_scripts/aware/data_checks\r\n"
     ]
    }
   ],
   "source": [
    "!pwd"
   ]
  },
  {
   "cell_type": "code",
   "execution_count": 3,
   "metadata": {},
   "outputs": [
    {
     "data": {
      "application/javascript": [
       "//toggle scrolling for jupyter notebooks.\n",
       "IPython.OutputArea.prototype._should_scroll = function(lines) {\n",
       "    return false;\n",
       "}\n"
      ],
      "text/plain": [
       "<IPython.core.display.Javascript object>"
      ]
     },
     "metadata": {},
     "output_type": "display_data"
    }
   ],
   "source": [
    "%%javascript\n",
    "//toggle scrolling for jupyter notebooks.\n",
    "IPython.OutputArea.prototype._should_scroll = function(lines) {\n",
    "    return false;\n",
    "}"
   ]
  },
  {
   "cell_type": "code",
   "execution_count": 4,
   "metadata": {},
   "outputs": [],
   "source": [
    "def getSqlConfigFromJSON(configFileName):\n",
    "    \"\"\"\n",
    "    Loads full mysql connect object from database returns the value as a JSON object. Format of the JSON object \n",
    "    is the following:\n",
    "    \n",
    "        {\n",
    "            \"host\": \"hostname.com\",\n",
    "            \"port\": 99999,\n",
    "            \"user\": \"root\",\n",
    "            \"passwd\": \"passworkd\",\n",
    "            \"database\": \"database_or_schema_name\"\n",
    "        }\n",
    "        \n",
    "    \"\"\"\n",
    "    \n",
    "    with open(configFileName) as f:\n",
    "        mysqlConnectObject = json.load(f)\n",
    "        \n",
    "    return mysqlConnectObject"
   ]
  },
  {
   "cell_type": "markdown",
   "metadata": {},
   "source": [
    "## Screen time"
   ]
  },
  {
   "cell_type": "markdown",
   "metadata": {},
   "source": [
    "The following code plots screen usage against time. We investigate missingness and the plots show that we miss data often for days. This observation is consistent with Vincent. Vincent, in his analysis, excluded days when there is no data. Although it is so far unclear, if the missing days are related to mental health. \n",
    "\n",
    "In the plot below, value 2 of screen usage is turning on the screen, 3 is turning off the screen."
   ]
  },
  {
   "cell_type": "code",
   "execution_count": 5,
   "metadata": {},
   "outputs": [
    {
     "name": "stdout",
     "output_type": "stream",
     "text": [
      "Fetching data\n",
      "creating data frame\n",
      "using data as index\n"
     ]
    },
    {
     "name": "stderr",
     "output_type": "stream",
     "text": [
      "/Users/mash2/anaconda3/lib/python3.7/site-packages/pandas/plotting/_converter.py:129: FutureWarning: Using an implicitly registered datetime converter for a matplotlib plotting method. The converter was registered by pandas on import. Future versions of pandas will require you to explicitly register matplotlib converters.\n",
      "\n",
      "To register the converters:\n",
      "\t>>> from pandas.plotting import register_matplotlib_converters\n",
      "\t>>> register_matplotlib_converters()\n",
      "  warnings.warn(msg, FutureWarning)\n"
     ]
    },
    {
     "data": {
      "text/plain": [
       "[<matplotlib.lines.Line2D at 0x11e5d7ac8>]"
      ]
     },
     "execution_count": 5,
     "metadata": {},
     "output_type": "execute_result"
    },
    {
     "data": {
      "image/png": "[encoded data removed]",
      "text/plain": [
       "<Figure size 1280x320 with 1 Axes>"
      ]
     },
     "metadata": {
      "needs_background": "light"
     },
     "output_type": "display_data"
    }
   ],
   "source": [
    "def getScreenUsageDataFrame():\n",
    "    \"\"\"\n",
    "    Select screen usage data points into the test database.\n",
    "    \"\"\"\n",
    "\n",
    "    print('Fetching data')\n",
    "    \n",
    "    #get sql connect config\n",
    "    mysqlConnectObject = getSqlConfigFromJSON('./awareSqlConfig.json')\n",
    "\n",
    "    # connect to db\n",
    "    db = mysql.connect(\n",
    "        host = mysqlConnectObject[\"host\"],\n",
    "        port = mysqlConnectObject[\"port\"],\n",
    "        user = mysqlConnectObject[\"user\"],\n",
    "        passwd = mysqlConnectObject[\"passwd\"],\n",
    "        database = mysqlConnectObject[\"database\"]\n",
    "    )\n",
    "    cursor = db.cursor()\n",
    "\n",
    "    # fetch data.\n",
    "    cursor.execute(\"SELECT * FROM screen order by timestamp desc;\")\n",
    "    recordsInScreenTable = cursor.fetchall()\n",
    "\n",
    "    # initialize variables\n",
    "    dateStringForAppUsageList = []\n",
    "    timestampForAppUsageList = []\n",
    "    screenTimeValueList = []\n",
    "    \n",
    "    print('creating data frame')\n",
    "    for row in recordsInScreenTable:\n",
    "        \n",
    "        ts = row[1]/1000 - 7*60*60 #convert to pacific timezone. ToDo: change fixed value.\n",
    "        timestampForAppUsageList.append(ts)\n",
    "        \n",
    "        datetime_ts = datetime.utcfromtimestamp(ts) \n",
    "        dateStringForAppUsageList.append(datetime_ts.strftime('%Y-%m-%d %I:%M:%S %p'))\n",
    "        # pdb.set_trace()\n",
    "        screenTimeValueList.append(int(json.loads(row[3])[\"screen_status\"]))\n",
    "        # pdb.set_trace()\n",
    "        \n",
    "        \n",
    "        \n",
    "    appUsageData = {\n",
    "        'date': dateStringForAppUsageList,\n",
    "        'screenTime': screenTimeValueList   \n",
    "    }\n",
    "    \n",
    "    #-- convert to pandas dataframe, with time based indexing\n",
    "    appUsageDataFrame = pd.DataFrame(appUsageData, columns = ['date','screenTime']) \n",
    "    print('using data as index')\n",
    "    appUsageDataFrame['date'] = pd.to_datetime(appUsageDataFrame['date'], format='%Y-%m-%d %I:%M:%S %p')\n",
    "    \n",
    "    return appUsageDataFrame\n",
    "\n",
    "appUsageDataFrame = getScreenUsageDataFrame()\n",
    "appUsageDataFrame.dtypes \n",
    "\n",
    "plt.figure(figsize=(16, 4), dpi=80)\n",
    "plt.plot(appUsageDataFrame['date'], appUsageDataFrame['screenTime'], '*')\n",
    "\n",
    "\n"
   ]
  },
  {
   "cell_type": "code",
   "execution_count": null,
   "metadata": {},
   "outputs": [],
   "source": [
    "appUsageDataFrame"
   ]
  },
  {
   "cell_type": "markdown",
   "metadata": {},
   "source": [
    "## GPS data"
   ]
  },
  {
   "cell_type": "markdown",
   "metadata": {},
   "source": [
    "The following code plots gps latitude against time. We investigate missingness and the plots show that we miss data often for days. "
   ]
  },
  {
   "cell_type": "code",
   "execution_count": null,
   "metadata": {},
   "outputs": [],
   "source": [
    "def getLocationDataFrame():\n",
    "    \"\"\"\n",
    "    Select location data points into the test database.\n",
    "    \"\"\"\n",
    "\n",
    "    print('Fetching data')\n",
    "\n",
    "    #get sql connect config\n",
    "    mysqlConnectObject = getSqlConfigFromJSON('./awareSqlConfig.json')\n",
    "    \n",
    "    # connect to db\n",
    "    db = mysql.connect(\n",
    "        host = mysqlConnectObject[\"host\"],\n",
    "        port = mysqlConnectObject[\"port\"],\n",
    "        user = mysqlConnectObject[\"user\"],\n",
    "        passwd = mysqlConnectObject[\"passwd\"],\n",
    "        database = mysqlConnectObject[\"database\"]\n",
    "    )\n",
    "    cursor = db.cursor()\n",
    "\n",
    "    # fetch data.\n",
    "    cursor.execute(\"SELECT * FROM saraaware.locations order by timestamp desc;\")\n",
    "    recordsInGpsTable = cursor.fetchall()\n",
    "\n",
    "    # initialize variables\n",
    "    dateStringForAppUsageList = []\n",
    "    timestampForAppUsageList = []\n",
    "    locationDataValueList = []\n",
    "    \n",
    "    print('creating data frame')\n",
    "    for row in recordsInGpsTable:\n",
    "        #print(row)\n",
    "        ts = row[1]/1000 - 7*60*60 #convert to pacific timezone. ToDo: change fixed value.\n",
    "        timestampForAppUsageList.append(ts)\n",
    "        \n",
    "        datetime_ts = datetime.utcfromtimestamp(ts) \n",
    "        dateStringForAppUsageList.append(datetime_ts.strftime('%Y-%m-%d %I:%M:%S %p'))\n",
    "        \n",
    "        locationDataValueList.append(row[3])\n",
    "        \n",
    "        #print(datetime_ts.strftime('%Y-%m-%d %I:%M:%S %p') + \", \" + str(row[3]))\n",
    "        #print(datetime_ts.strftime('%Y-%m-%d %I:%M:%S %p'))\n",
    "        \n",
    "        \n",
    "    locationData = {\n",
    "        'date': dateStringForAppUsageList,\n",
    "        #'timestamp': timestampForAppUsageList,\n",
    "        'location_lat': locationDataValueList   \n",
    "    }\n",
    "    \n",
    "    #-- convert to pandas dataframe, with time based indexing\n",
    "    locationDataFrame = pd.DataFrame(locationData, columns = ['date','location_lat']) \n",
    "    print('using data as index')\n",
    "    locationDataFrame['date'] = pd.to_datetime(locationDataFrame['date'], format='%Y-%m-%d %I:%M:%S %p')\n",
    "    \n",
    "    return locationDataFrame\n",
    "\n",
    "locationDataFrame = getLocationDataFrame()\n",
    "locationDataFrame.dtypes \n",
    "\n",
    "plt.figure(figsize=(16, 4), dpi=80)\n",
    "plt.plot(locationDataFrame['date'], locationDataFrame['location_lat'], '*')\n",
    "\n",
    "\n",
    "    "
   ]
  },
  {
   "cell_type": "markdown",
   "metadata": {},
   "source": [
    "## Step count"
   ]
  },
  {
   "cell_type": "markdown",
   "metadata": {},
   "source": [
    "The following code plots step count against time. We investigate missingness and the plots show that we miss data often for days. Step count has less missing than "
   ]
  },
  {
   "cell_type": "code",
   "execution_count": null,
   "metadata": {},
   "outputs": [],
   "source": [
    "def getStepCountDataFrame():\n",
    "    \"\"\"\n",
    "    Select step count data points into the test database.\n",
    "    \"\"\"\n",
    "\n",
    "    \n",
    "    print('Fetching data')\n",
    "    \n",
    "    #get sql connect config\n",
    "    mysqlConnectObject = getSqlConfigFromJSON('./awareSqlConfig.json')\n",
    "\n",
    "    # connect to db\n",
    "    db = mysql.connect(\n",
    "        host = mysqlConnectObject[\"host\"],\n",
    "        port = mysqlConnectObject[\"port\"],\n",
    "        user = mysqlConnectObject[\"user\"],\n",
    "        passwd = mysqlConnectObject[\"passwd\"],\n",
    "        database = mysqlConnectObject[\"database\"]\n",
    "    )\n",
    "    cursor = db.cursor()\n",
    "\n",
    "    # fetch data.\n",
    "    cursor.execute(\"SELECT * FROM saraaware.plugin_ios_pedometer order by timestamp desc;\")\n",
    "    recordsInStepTable = cursor.fetchall()\n",
    "\n",
    "    # initialize variables\n",
    "    dateStringForAppUsageList = []\n",
    "    timestampForAppUsageList = []\n",
    "    stepCountDataValueList = []\n",
    "    \n",
    "    #print('creating data frame ' + len(recordsInTestTable))\n",
    "    for row in recordsInStepTable:\n",
    "        #print(row)\n",
    "        ts = row[1]/1000 - 7*60*60 #convert to pacific timezone. ToDo: change fixed value.\n",
    "        timestampForAppUsageList.append(ts)\n",
    "        \n",
    "        datetime_ts = datetime.utcfromtimestamp(ts) \n",
    "        dateStringForAppUsageList.append(datetime_ts.strftime('%Y-%m-%d %I:%M:%S %p'))\n",
    "        \n",
    "        stepCountDataValueList.append(row[5])\n",
    "        \n",
    "        #print(datetime_ts.strftime('%Y-%m-%d %I:%M:%S %p') + \", \" + str(row[3]))\n",
    "        #print(datetime_ts.strftime('%Y-%m-%d %I:%M:%S %p'))\n",
    "        \n",
    "        \n",
    "    stepCountData = {\n",
    "        'date': dateStringForAppUsageList,\n",
    "        #'timestamp': timestampForAppUsageList,\n",
    "        'stepCount': stepCountDataValueList   \n",
    "    }\n",
    "    \n",
    "    \n",
    "    #-- convert to pandas dataframe, with time based indexing\n",
    "    stepCountDataFrame = pd.DataFrame(stepCountData, columns = ['date','stepCount']) #, parse_dates=['date'], index_col=\"date\")\n",
    "    print('using data as index')\n",
    "    stepCountDataFrame['date'] = pd.to_datetime(stepCountDataFrame['date'], format='%Y-%m-%d %I:%M:%S %p')\n",
    "    \n",
    "    return stepCountDataFrame\n",
    "\n",
    "stepCountDataFrame = getStepCountDataFrame()\n",
    "stepCountDataFrame.dtypes \n",
    "\n",
    "plt.figure(figsize=(16, 4), dpi=80)\n",
    "plt.plot(stepCountDataFrame['date'], stepCountDataFrame['stepCount'], '*')"
   ]
  },
  {
   "cell_type": "code",
   "execution_count": null,
   "metadata": {},
   "outputs": [],
   "source": []
  }
 ],
 "metadata": {
  "kernelspec": {
   "display_name": "Python 3",
   "language": "python",
   "name": "python3"
  },
  "language_info": {
   "codemirror_mode": {
    "name": "ipython",
    "version": 3
   },
   "file_extension": ".py",
   "mimetype": "text/x-python",
   "name": "python",
   "nbconvert_exporter": "python",
   "pygments_lexer": "ipython3",
   "version": "3.7.3"
  }
 },
 "nbformat": 4,
 "nbformat_minor": 4
}
