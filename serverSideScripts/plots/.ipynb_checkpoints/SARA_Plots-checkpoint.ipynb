{
 "cells": [
  {
   "cell_type": "code",
   "execution_count": 3,
   "metadata": {},
   "outputs": [],
   "source": [
    "import mysql.connector as mysql\n",
    "from datetime import datetime\n",
    "import time\n",
    "import pandas as pd\n",
    "import matplotlib.pyplot as plt\n",
    "import json\n",
    "import numpy as np"
   ]
  },
  {
   "cell_type": "code",
   "execution_count": 2,
   "metadata": {},
   "outputs": [
    {
     "name": "stdout",
     "output_type": "stream",
     "text": [
      "Collecting mysql-connector-python\n",
      "  Downloading mysql_connector_python-8.0.22-cp38-cp38-manylinux1_x86_64.whl (18.0 MB)\n",
      "\u001b[K     |████████████████████████████████| 18.0 MB 9.9 MB/s eta 0:00:01\n",
      "\u001b[?25hCollecting protobuf>=3.0.0\n",
      "  Using cached protobuf-3.13.0-cp38-cp38-manylinux1_x86_64.whl (1.3 MB)\n",
      "Requirement already satisfied: setuptools in /home/chloel/GapYear2020/kaggle/kaggle_moa/lib/python3.8/site-packages (from protobuf>=3.0.0->mysql-connector-python) (44.0.0)\n",
      "Requirement already satisfied: six>=1.9 in /home/chloel/GapYear2020/kaggle/kaggle_moa/lib/python3.8/site-packages (from protobuf>=3.0.0->mysql-connector-python) (1.15.0)\n",
      "Installing collected packages: protobuf, mysql-connector-python\n",
      "Successfully installed mysql-connector-python-8.0.22 protobuf-3.13.0\n"
     ]
    }
   ],
   "source": [
    "!pip install mysql-connector-python"
   ]
  },
  {
   "cell_type": "code",
   "execution_count": 4,
   "metadata": {},
   "outputs": [
    {
     "data": {
      "application/javascript": [
       "//toggle scrolling for jupyter notebooks.\n",
       "IPython.OutputArea.prototype._should_scroll = function(lines) {\n",
       "    return false;\n",
       "}\n"
      ],
      "text/plain": [
       "<IPython.core.display.Javascript object>"
      ]
     },
     "metadata": {},
     "output_type": "display_data"
    }
   ],
   "source": [
    "%%javascript\n",
    "//toggle scrolling for jupyter notebooks.\n",
    "IPython.OutputArea.prototype._should_scroll = function(lines) {\n",
    "    return false;\n",
    "}"
   ]
  },
  {
   "cell_type": "code",
   "execution_count": 111,
   "metadata": {},
   "outputs": [],
   "source": [
    "def getSqlConfigFromJSON(configFileName):\n",
    "    \"\"\"\n",
    "    Loads full mysql connect object from database returns the value as a JSON object. Format of the JSON object \n",
    "    is the following:\n",
    "    \n",
    "        {\n",
    "            \"host\": \"hostname.com\",\n",
    "            \"port\": 99999,\n",
    "            \"user\": \"root\",\n",
    "            \"passwd\": \"passworkd\",\n",
    "            \"database\": \"database_or_schema_name\"\n",
    "        }\n",
    "        \n",
    "    \"host\": \"ec2-54-91-131-166.compute-1.amazonaws.com\",\n",
    "    \"port\": 3306,\n",
    "    \"user\": \"root\",\n",
    "    \"passwd\": \"shu12925\",\n",
    "    \"database\": \"saraaware\"\n",
    "    \n",
    "    \n",
    "    \n",
    "    \"DB_PASSWORD\":\"password\",\n",
    "    \"DB_HOST\":\"ec2-54-91-131-166.compute-1.amazonaws.com\",\n",
    "    \"DB_PORT\":3308,\n",
    "    \"DB_USER\":\"root\"\n",
    "\n",
    "        \n",
    "    \"\"\"\n",
    "    \n",
    "    with open(configFileName) as f:\n",
    "        mysqlConnectObject = json.load(f)\n",
    "        \n",
    "    return mysqlConnectObject"
   ]
  },
  {
   "cell_type": "code",
   "execution_count": 13,
   "metadata": {},
   "outputs": [],
   "source": [
    "DB_PASSWORD = \"password\"\n",
    "DB_HOST = \"ec2-54-91-131-166.compute-1.amazonaws.com\"\n",
    "DB_PORT = 3306\n",
    "DB_USER = \"root\""
   ]
  },
  {
   "cell_type": "code",
   "execution_count": null,
   "metadata": {},
   "outputs": [],
   "source": [
    "# CHLOE BEING LAZY\n",
    "# mysqlConnectObject = getSqlConfigFromJSON('./saraSqlConfig.json')\n",
    "# db = mysql.connect(\n",
    "#     host = mysqlConnectObject[\"DB_HOST\"],\n",
    "#     port = mysqlConnectObject[\"DB_PORT\"],\n",
    "#     user = mysqlConnectObject[\"DB_USER\"],\n",
    "#     passwd = mysqlConnectObject[\"DB_PASSWORD\"],\n",
    "#     database = \"HarvardDev\"\n",
    "#     )"
   ]
  },
  {
   "cell_type": "code",
   "execution_count": 14,
   "metadata": {},
   "outputs": [
    {
     "ename": "ProgrammingError",
     "evalue": "1045 (28000): Access denied for user 'root'@'ip70-185-129-92.sb.sd.cox.net' (using password: YES)",
     "output_type": "error",
     "traceback": [
      "\u001b[0;31m---------------------------------------------------------------------------\u001b[0m",
      "\u001b[0;31mMySQLInterfaceError\u001b[0m                       Traceback (most recent call last)",
      "\u001b[0;32m~/GapYear2020/kaggle/kaggle_moa/lib/python3.8/site-packages/mysql/connector/connection_cext.py\u001b[0m in \u001b[0;36m_open_connection\u001b[0;34m(self)\u001b[0m\n\u001b[1;32m    232\u001b[0m         \u001b[0;32mtry\u001b[0m\u001b[0;34m:\u001b[0m\u001b[0;34m\u001b[0m\u001b[0;34m\u001b[0m\u001b[0m\n\u001b[0;32m--> 233\u001b[0;31m             \u001b[0mself\u001b[0m\u001b[0;34m.\u001b[0m\u001b[0m_cmysql\u001b[0m\u001b[0;34m.\u001b[0m\u001b[0mconnect\u001b[0m\u001b[0;34m(\u001b[0m\u001b[0;34m**\u001b[0m\u001b[0mcnx_kwargs\u001b[0m\u001b[0;34m)\u001b[0m\u001b[0;34m\u001b[0m\u001b[0;34m\u001b[0m\u001b[0m\n\u001b[0m\u001b[1;32m    234\u001b[0m         \u001b[0;32mexcept\u001b[0m \u001b[0mMySQLInterfaceError\u001b[0m \u001b[0;32mas\u001b[0m \u001b[0mexc\u001b[0m\u001b[0;34m:\u001b[0m\u001b[0;34m\u001b[0m\u001b[0;34m\u001b[0m\u001b[0m\n",
      "\u001b[0;31mMySQLInterfaceError\u001b[0m: Access denied for user 'root'@'ip70-185-129-92.sb.sd.cox.net' (using password: YES)",
      "\nDuring handling of the above exception, another exception occurred:\n",
      "\u001b[0;31mProgrammingError\u001b[0m                          Traceback (most recent call last)",
      "\u001b[0;32m<ipython-input-14-bdd87288e080>\u001b[0m in \u001b[0;36m<module>\u001b[0;34m\u001b[0m\n\u001b[0;32m----> 1\u001b[0;31m db = mysql.connect(\n\u001b[0m\u001b[1;32m      2\u001b[0m     \u001b[0mhost\u001b[0m \u001b[0;34m=\u001b[0m \u001b[0mDB_HOST\u001b[0m\u001b[0;34m,\u001b[0m\u001b[0;34m\u001b[0m\u001b[0;34m\u001b[0m\u001b[0m\n\u001b[1;32m      3\u001b[0m     \u001b[0mport\u001b[0m \u001b[0;34m=\u001b[0m \u001b[0mDB_PORT\u001b[0m\u001b[0;34m,\u001b[0m\u001b[0;34m\u001b[0m\u001b[0;34m\u001b[0m\u001b[0m\n\u001b[1;32m      4\u001b[0m     \u001b[0muser\u001b[0m \u001b[0;34m=\u001b[0m \u001b[0mDB_USER\u001b[0m\u001b[0;34m,\u001b[0m\u001b[0;34m\u001b[0m\u001b[0;34m\u001b[0m\u001b[0m\n\u001b[1;32m      5\u001b[0m     \u001b[0mpasswd\u001b[0m \u001b[0;34m=\u001b[0m \u001b[0mDB_PASSWORD\u001b[0m\u001b[0;34m,\u001b[0m\u001b[0;34m\u001b[0m\u001b[0;34m\u001b[0m\u001b[0m\n",
      "\u001b[0;32m~/GapYear2020/kaggle/kaggle_moa/lib/python3.8/site-packages/mysql/connector/__init__.py\u001b[0m in \u001b[0;36mconnect\u001b[0;34m(*args, **kwargs)\u001b[0m\n\u001b[1;32m    268\u001b[0m \u001b[0;34m\u001b[0m\u001b[0m\n\u001b[1;32m    269\u001b[0m     \u001b[0;32mif\u001b[0m \u001b[0mHAVE_CEXT\u001b[0m \u001b[0;32mand\u001b[0m \u001b[0;32mnot\u001b[0m \u001b[0muse_pure\u001b[0m\u001b[0;34m:\u001b[0m\u001b[0;34m\u001b[0m\u001b[0;34m\u001b[0m\u001b[0m\n\u001b[0;32m--> 270\u001b[0;31m         \u001b[0;32mreturn\u001b[0m \u001b[0mCMySQLConnection\u001b[0m\u001b[0;34m(\u001b[0m\u001b[0;34m*\u001b[0m\u001b[0margs\u001b[0m\u001b[0;34m,\u001b[0m \u001b[0;34m**\u001b[0m\u001b[0mkwargs\u001b[0m\u001b[0;34m)\u001b[0m\u001b[0;34m\u001b[0m\u001b[0;34m\u001b[0m\u001b[0m\n\u001b[0m\u001b[1;32m    271\u001b[0m     \u001b[0;32mreturn\u001b[0m \u001b[0mMySQLConnection\u001b[0m\u001b[0;34m(\u001b[0m\u001b[0;34m*\u001b[0m\u001b[0margs\u001b[0m\u001b[0;34m,\u001b[0m \u001b[0;34m**\u001b[0m\u001b[0mkwargs\u001b[0m\u001b[0;34m)\u001b[0m\u001b[0;34m\u001b[0m\u001b[0;34m\u001b[0m\u001b[0m\n\u001b[1;32m    272\u001b[0m \u001b[0mConnect\u001b[0m \u001b[0;34m=\u001b[0m \u001b[0mconnect\u001b[0m  \u001b[0;31m# pylint: disable=C0103\u001b[0m\u001b[0;34m\u001b[0m\u001b[0;34m\u001b[0m\u001b[0m\n",
      "\u001b[0;32m~/GapYear2020/kaggle/kaggle_moa/lib/python3.8/site-packages/mysql/connector/connection_cext.py\u001b[0m in \u001b[0;36m__init__\u001b[0;34m(self, **kwargs)\u001b[0m\n\u001b[1;32m     84\u001b[0m \u001b[0;34m\u001b[0m\u001b[0m\n\u001b[1;32m     85\u001b[0m         \u001b[0;32mif\u001b[0m \u001b[0mkwargs\u001b[0m\u001b[0;34m:\u001b[0m\u001b[0;34m\u001b[0m\u001b[0;34m\u001b[0m\u001b[0m\n\u001b[0;32m---> 86\u001b[0;31m             \u001b[0mself\u001b[0m\u001b[0;34m.\u001b[0m\u001b[0mconnect\u001b[0m\u001b[0;34m(\u001b[0m\u001b[0;34m**\u001b[0m\u001b[0mkwargs\u001b[0m\u001b[0;34m)\u001b[0m\u001b[0;34m\u001b[0m\u001b[0;34m\u001b[0m\u001b[0m\n\u001b[0m\u001b[1;32m     87\u001b[0m \u001b[0;34m\u001b[0m\u001b[0m\n\u001b[1;32m     88\u001b[0m     \u001b[0;32mdef\u001b[0m \u001b[0m_add_default_conn_attrs\u001b[0m\u001b[0;34m(\u001b[0m\u001b[0mself\u001b[0m\u001b[0;34m)\u001b[0m\u001b[0;34m:\u001b[0m\u001b[0;34m\u001b[0m\u001b[0;34m\u001b[0m\u001b[0m\n",
      "\u001b[0;32m~/GapYear2020/kaggle/kaggle_moa/lib/python3.8/site-packages/mysql/connector/abstracts.py\u001b[0m in \u001b[0;36mconnect\u001b[0;34m(self, **kwargs)\u001b[0m\n\u001b[1;32m    983\u001b[0m \u001b[0;34m\u001b[0m\u001b[0m\n\u001b[1;32m    984\u001b[0m         \u001b[0mself\u001b[0m\u001b[0;34m.\u001b[0m\u001b[0mdisconnect\u001b[0m\u001b[0;34m(\u001b[0m\u001b[0;34m)\u001b[0m\u001b[0;34m\u001b[0m\u001b[0;34m\u001b[0m\u001b[0m\n\u001b[0;32m--> 985\u001b[0;31m         \u001b[0mself\u001b[0m\u001b[0;34m.\u001b[0m\u001b[0m_open_connection\u001b[0m\u001b[0;34m(\u001b[0m\u001b[0;34m)\u001b[0m\u001b[0;34m\u001b[0m\u001b[0;34m\u001b[0m\u001b[0m\n\u001b[0m\u001b[1;32m    986\u001b[0m         \u001b[0;31m# Server does not allow to run any other statement different from ALTER\u001b[0m\u001b[0;34m\u001b[0m\u001b[0;34m\u001b[0m\u001b[0;34m\u001b[0m\u001b[0m\n\u001b[1;32m    987\u001b[0m         \u001b[0;31m# when user's password has been expired.\u001b[0m\u001b[0;34m\u001b[0m\u001b[0;34m\u001b[0m\u001b[0;34m\u001b[0m\u001b[0m\n",
      "\u001b[0;32m~/GapYear2020/kaggle/kaggle_moa/lib/python3.8/site-packages/mysql/connector/connection_cext.py\u001b[0m in \u001b[0;36m_open_connection\u001b[0;34m(self)\u001b[0m\n\u001b[1;32m    233\u001b[0m             \u001b[0mself\u001b[0m\u001b[0;34m.\u001b[0m\u001b[0m_cmysql\u001b[0m\u001b[0;34m.\u001b[0m\u001b[0mconnect\u001b[0m\u001b[0;34m(\u001b[0m\u001b[0;34m**\u001b[0m\u001b[0mcnx_kwargs\u001b[0m\u001b[0;34m)\u001b[0m\u001b[0;34m\u001b[0m\u001b[0;34m\u001b[0m\u001b[0m\n\u001b[1;32m    234\u001b[0m         \u001b[0;32mexcept\u001b[0m \u001b[0mMySQLInterfaceError\u001b[0m \u001b[0;32mas\u001b[0m \u001b[0mexc\u001b[0m\u001b[0;34m:\u001b[0m\u001b[0;34m\u001b[0m\u001b[0;34m\u001b[0m\u001b[0m\n\u001b[0;32m--> 235\u001b[0;31m             raise errors.get_mysql_exception(msg=exc.msg, errno=exc.errno,\n\u001b[0m\u001b[1;32m    236\u001b[0m                                              sqlstate=exc.sqlstate)\n\u001b[1;32m    237\u001b[0m \u001b[0;34m\u001b[0m\u001b[0m\n",
      "\u001b[0;31mProgrammingError\u001b[0m: 1045 (28000): Access denied for user 'root'@'ip70-185-129-92.sb.sd.cox.net' (using password: YES)"
     ]
    }
   ],
   "source": [
    "db = mysql.connect(\n",
    "    host = DB_HOST,\n",
    "    port = DB_PORT,\n",
    "    user = DB_USER,\n",
    "    passwd = DB_PASSWORD,\n",
    "    database = \"HarvardDev\"\n",
    "    )"
   ]
  },
  {
   "cell_type": "code",
   "execution_count": 113,
   "metadata": {},
   "outputs": [],
   "source": [
    "def get_stress(username = 'mash_aya', num_days = 7):\n",
    "    cursor = db.cursor()\n",
    "    sql_command = \"SELECT when_inserted, json_answer FROM HarvardDev.harvardSurvey \" \n",
    "    sql_command = sql_command + \"where user_id=\\\"\"+username +\"\\\" and when_inserted > NOW() - INTERVAL \" + str(num_days) + \" DAY \"\n",
    "    sql_command =  sql_command + \" order by survey_completion_time desc;\"\n",
    "    print(sql_command)\n",
    "\n",
    "    cursor.execute(sql_command)\n",
    "    returnedData = cursor.fetchall()\n",
    "    stress = []\n",
    "    xdates = []\n",
    "    for row in returnedData:\n",
    "        date = row[0]\n",
    "        row_json=json.loads(row[1])\n",
    "        try:\n",
    "            xdates.append(row[0])\n",
    "            stress.append(float(row_json['QStress'].split(\":\")[0]))\n",
    "        except:\n",
    "            print(str(date) + \" no stress\")\n",
    "            \n",
    "    return stress, xdates"
   ]
  },
  {
   "cell_type": "code",
   "execution_count": null,
   "metadata": {},
   "outputs": [],
   "source": [
    "num_days = 30 #30 days for testing bc the data is funky. change to 7\n",
    "stress, xdates = get_stress('mash_aya',num_days)"
   ]
  },
  {
   "cell_type": "code",
   "execution_count": 18,
   "metadata": {},
   "outputs": [],
   "source": [
    "#fake data\n",
    "stress = [1,3,4,1,1,1,1]\n",
    "#xdates = [1,2,3,4,5,6,7]\n",
    "xdates = [\"2020-10-14 01:44:48\",\n",
    "\"2020-10-14 01:31:05\",\n",
    "\"2020-10-14 01:18:55\",\n",
    "\"2020-10-14 01:03:58\",\n",
    "\"2020-10-14 01:03:58\",\n",
    "\"2020-10-07 01:31:30\",\n",
    "\"2020-10-07 01:31:28\"] "
   ]
  },
  {
   "cell_type": "code",
   "execution_count": 19,
   "metadata": {},
   "outputs": [
    {
     "name": "stdout",
     "output_type": "stream",
     "text": [
      "   stress                dates short_dates\n",
      "0       1  2020-10-14 01:44:48  2020-10-14\n",
      "1       3  2020-10-14 01:31:05  2020-10-14\n",
      "2       4  2020-10-14 01:18:55  2020-10-14\n",
      "3       1  2020-10-14 01:03:58  2020-10-14\n",
      "4       1  2020-10-14 01:03:58  2020-10-14\n",
      "5       1  2020-10-07 01:31:30  2020-10-07\n",
      "6       1  2020-10-07 01:31:28  2020-10-07\n"
     ]
    }
   ],
   "source": [
    "df = pd.DataFrame({'stress':stress, 'dates':xdates})\n",
    "df['short_dates']= df['dates'].str.slice(0,10)\n",
    "print(df.head(10))"
   ]
  },
  {
   "cell_type": "code",
   "execution_count": 20,
   "metadata": {},
   "outputs": [],
   "source": [
    "#Eventually when we have good data from daily surveys, just change dates above to last 7 days.\n",
    "#for now, let's just plot the last 7 data points\n",
    "df = df.sort_values('dates',ascending=False).head(7)\n",
    "df = df.sort_values('dates',ascending=True)"
   ]
  },
  {
   "cell_type": "code",
   "execution_count": null,
   "metadata": {},
   "outputs": [],
   "source": [
    "from matplotlib.ticker import MaxNLocator\n",
    "\n",
    "output = df.plot.scatter(x='dates', y='stress', figsize = (15,10),alpha=.3,s=100)\n",
    "plt.xticks(df['dates'],df['short_dates'], fontsize = 11,rotation=45, ha='right')\n",
    "plt.yticks([1,2,3,4],['Chilling', 'Neutral', 'Stressed', 'Ripping Hair'])\n",
    "plt.title('Concentration level on a given date')\n",
    "plt.savefig('concentration.jpg')"
   ]
  },
  {
   "cell_type": "code",
   "execution_count": 155,
   "metadata": {},
   "outputs": [
    {
     "data": {
      "image/png": "[encoded data removed]",
      "text/plain": [
       "<Figure size 720x360 with 1 Axes>"
      ]
     },
     "metadata": {
      "needs_background": "light"
     },
     "output_type": "display_data"
    }
   ],
   "source": [
    "#https://matplotlib.org/3.3.1/tutorials/colors/colormaps.html\n",
    "#https://matplotlib.org/3.1.0/gallery/color/named_colors.html\n",
    "# fig, ax = plt.subplots(1, 1, figsize=(10, 5))\n",
    "# ax.scatter(mood1,mood2, alpha=0.3, c=mood_sum,cmap='seismic',s=100)\n",
    "# ax.grid(1)\n",
    "# ax.set_facecolor(\"aliceblue\")\n",
    "# ax.set_title(\"Mood for last \"+str(num_days)+\" days\")\n",
    "# ax.set_xlabel(r'$Negative \\longrightarrow$ Positive')\n",
    "# ax.set_ylabel(r'$Sleepy \\longrightarrow$ Alert')\n",
    "# ax.text(-4,3,\"Stress\",alpha=0.4,fontsize=25)\n",
    "# ax.text(-4,-3,\"Depressed\",alpha=0.4,fontsize=25)\n",
    "# ax.text(2,3,\"Excitement\",alpha=0.4,fontsize=25)\n",
    "# ax.text(2,-3,\"Relaxed\",alpha=0.4,fontsize=25)\n",
    "# ax.set_xlim(-5,5)\n",
    "# ax.set_ylim(-5,5)\n",
    "# plt.savefig('mood_'+username+'.jpg')\n",
    "\n"
   ]
  },
  {
   "cell_type": "code",
   "execution_count": null,
   "metadata": {},
   "outputs": [],
   "source": []
  }
 ],
 "metadata": {
  "kernelspec": {
   "display_name": "Python 3",
   "language": "python",
   "name": "python3"
  },
  "language_info": {
   "codemirror_mode": {
    "name": "ipython",
    "version": 3
   },
   "file_extension": ".py",
   "mimetype": "text/x-python",
   "name": "python",
   "nbconvert_exporter": "python",
   "pygments_lexer": "ipython3",
   "version": "3.8.5"
  }
 },
 "nbformat": 4,
 "nbformat_minor": 2
}
