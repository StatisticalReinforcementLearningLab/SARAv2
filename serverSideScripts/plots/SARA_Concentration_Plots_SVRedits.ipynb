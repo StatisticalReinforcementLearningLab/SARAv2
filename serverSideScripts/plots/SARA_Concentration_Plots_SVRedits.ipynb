{
 "cells": [
  {
   "cell_type": "code",
   "execution_count": 137,
   "metadata": {},
   "outputs": [],
   "source": [
    "import mysql.connector as mysql\n",
    "from datetime import datetime\n",
    "import time\n",
    "import pandas as pd\n",
    "import matplotlib.pyplot as plt\n",
    "import json\n",
    "import numpy as np"
   ]
  },
  {
   "cell_type": "code",
   "execution_count": 138,
   "metadata": {},
   "outputs": [
    {
     "data": {
      "application/javascript": [
       "//toggle scrolling for jupyter notebooks.\n",
       "IPython.OutputArea.prototype._should_scroll = function(lines) {\n",
       "    return false;\n",
       "}\n"
      ],
      "text/plain": [
       "<IPython.core.display.Javascript object>"
      ]
     },
     "metadata": {},
     "output_type": "display_data"
    }
   ],
   "source": [
    "%%javascript\n",
    "//toggle scrolling for jupyter notebooks.\n",
    "IPython.OutputArea.prototype._should_scroll = function(lines) {\n",
    "    return false;\n",
    "}"
   ]
  },
  {
   "cell_type": "code",
   "execution_count": 139,
   "metadata": {},
   "outputs": [],
   "source": [
    "def getSqlConfigFromJSON(configFileName):\n",
    "    \"\"\"\n",
    "    Loads full mysql connect object from database returns the value as a JSON object. Format of the JSON object \n",
    "    is the following:\n",
    "    \n",
    "        {\n",
    "            \"host\": \"hostname.com\",\n",
    "            \"port\": 99999,\n",
    "            \"user\": \"root\",\n",
    "            \"passwd\": \"passworkd\",\n",
    "            \"database\": \"database_or_schema_name\"\n",
    "        }\n",
    "        \n",
    "    \"\"\"\n",
    "    \n",
    "    with open(configFileName) as f:\n",
    "        mysqlConnectObject = json.load(f)\n",
    "        \n",
    "    return mysqlConnectObject"
   ]
  },
  {
   "cell_type": "code",
   "execution_count": 140,
   "metadata": {},
   "outputs": [],
   "source": [
    "mysqlConnectObject = getSqlConfigFromJSON('./saraSqlConfig.json')\n",
    "db = mysql.connect(\n",
    "    host = mysqlConnectObject[\"DB_HOST\"],\n",
    "    port = mysqlConnectObject[\"DB_PORT\"],\n",
    "    user = mysqlConnectObject[\"DB_USER\"],\n",
    "    passwd = mysqlConnectObject[\"DB_PASSWORD\"],\n",
    "    database = \"HarvardDev\"\n",
    "    )"
   ]
  },
  {
   "cell_type": "code",
   "execution_count": 141,
   "metadata": {},
   "outputs": [
    {
     "name": "stdout",
     "output_type": "stream",
     "text": [
      "SELECT when_inserted, json_answer FROM HarvardDev.harvardSurvey where user_id=\"mash_aya\" and when_inserted > NOW() - INTERVAL 30 DAY  order by survey_completion_time desc;\n"
     ]
    },
    {
     "data": {
      "text/plain": [
       "([' Often',\n",
       "  ' Often',\n",
       "  ' Occasionally',\n",
       "  ' Often',\n",
       "  ' Often',\n",
       "  ' Occasionally',\n",
       "  ' Often',\n",
       "  ' Often',\n",
       "  ' Often',\n",
       "  ' Often',\n",
       "  ' Often',\n",
       "  ' Often',\n",
       "  ' Often',\n",
       "  ' Often',\n",
       "  ' Often',\n",
       "  ' Often',\n",
       "  ' Often',\n",
       "  ' Often',\n",
       "  ' Often',\n",
       "  ' Often',\n",
       "  ' Occasionally',\n",
       "  ' Often',\n",
       "  ' Often',\n",
       "  ' Often',\n",
       "  ' Often',\n",
       "  ' Often',\n",
       "  ' Often',\n",
       "  ' Often',\n",
       "  ' Often',\n",
       "  ' Often',\n",
       "  ' Often',\n",
       "  ' Often',\n",
       "  ' Often',\n",
       "  ' Often',\n",
       "  ' Often',\n",
       "  ' Often',\n",
       "  ' Often',\n",
       "  ' Often',\n",
       "  ' Often',\n",
       "  ' Often',\n",
       "  ' Often',\n",
       "  ' Occasionally',\n",
       "  ' Often',\n",
       "  ' Often'],\n",
       " ['2020-10-14 01:44:48',\n",
       "  '2020-10-14 01:31:05',\n",
       "  '2020-10-14 01:18:55',\n",
       "  '2020-10-14 01:03:58',\n",
       "  '2020-10-14 01:03:58',\n",
       "  '2020-10-07 01:31:30',\n",
       "  '2020-10-07 01:31:28',\n",
       "  '2020-10-07 01:31:26',\n",
       "  '2020-10-07 01:31:25',\n",
       "  '2020-10-07 01:31:23',\n",
       "  '2020-10-07 01:31:22',\n",
       "  '2020-10-07 01:31:21',\n",
       "  '2020-10-07 01:31:19',\n",
       "  '2020-10-07 01:31:18',\n",
       "  '2020-10-07 01:31:17',\n",
       "  '2020-10-07 01:31:16',\n",
       "  '2020-10-07 01:31:14',\n",
       "  '2020-10-07 01:31:13',\n",
       "  '2020-10-07 01:31:12',\n",
       "  '2020-10-07 01:31:10',\n",
       "  '2020-10-07 01:31:09',\n",
       "  '2020-10-07 01:31:08',\n",
       "  '2020-10-07 01:31:07',\n",
       "  '2020-10-07 01:31:05',\n",
       "  '2020-10-07 01:31:04',\n",
       "  '2020-10-07 01:31:03',\n",
       "  '2020-10-07 01:31:02',\n",
       "  '2020-10-07 01:31:00',\n",
       "  '2020-10-07 01:30:59',\n",
       "  '2020-10-07 01:30:57',\n",
       "  '2020-10-07 01:30:56',\n",
       "  '2020-10-07 01:30:54',\n",
       "  '2020-10-07 01:30:53',\n",
       "  '2020-10-07 01:30:52',\n",
       "  '2020-10-07 01:30:51',\n",
       "  '2020-10-07 01:30:50',\n",
       "  '2020-10-07 01:30:48',\n",
       "  '2020-10-07 01:30:47',\n",
       "  '2020-10-07 01:30:46',\n",
       "  '2020-10-07 01:30:45',\n",
       "  '2020-10-07 01:30:43',\n",
       "  '2020-10-07 01:30:42',\n",
       "  '2020-10-07 01:30:41',\n",
       "  '2020-10-07 01:30:40'])"
      ]
     },
     "execution_count": 141,
     "metadata": {},
     "output_type": "execute_result"
    }
   ],
   "source": [
    "def get_conc(username = 'mash_aya', num_days = 7):\n",
    "    cursor = db.cursor()\n",
    "    sql_command = \"SELECT when_inserted, json_answer FROM HarvardDev.harvardSurvey \" \n",
    "    sql_command = sql_command + \"where user_id=\\\"\"+username +\"\\\" and when_inserted > NOW() - INTERVAL \" + str(num_days) + \" DAY \"\n",
    "    sql_command =  sql_command + \" order by survey_completion_time desc;\"\n",
    "    print(sql_command)\n",
    "\n",
    "    cursor.execute(sql_command)\n",
    "    returnedData = cursor.fetchall()\n",
    "    conc=[]\n",
    "    xdates = []\n",
    "    for row in returnedData:\n",
    "        date = row[0]\n",
    "        row_json=json.loads(row[1])\n",
    "        try:\n",
    "            conc.append(row_json['Q2'])\n",
    "            xdates.append(row[0])\n",
    "        except:\n",
    "            print(str(date) + \" no concentration level\")\n",
    "            \n",
    "    return conc, xdates\n",
    "get_conc('mash_aya',30)"
   ]
  },
  {
   "cell_type": "code",
   "execution_count": 142,
   "metadata": {},
   "outputs": [
    {
     "name": "stdout",
     "output_type": "stream",
     "text": [
      "SELECT when_inserted, json_answer FROM HarvardDev.harvardSurvey where user_id=\"mash_aya\" and when_inserted > NOW() - INTERVAL 30 DAY  order by survey_completion_time desc;\n",
      "44 44\n"
     ]
    }
   ],
   "source": [
    "num_days = 30 #30 days for testing bc the data is funky. change to 7\n",
    "conc,xdates = get_conc('mash_aya',num_days)\n",
    "print(len(xdates), len(conc1))\n"
   ]
  },
  {
   "cell_type": "code",
   "execution_count": 143,
   "metadata": {},
   "outputs": [],
   "source": [
    "#to_int_arr = ['Rarely/Never', 'Occasionally', 'Often', 'Almost Always/Always']\n",
    "new_list =[]\n",
    "\n",
    "def conc_to_int(arr):\n",
    "    for i in arr:\n",
    "        if i == ' Rarely/Never':\n",
    "            new_list.append(1)\n",
    "        elif i == ' Occasionally':\n",
    "            new_list.append(2)\n",
    "        elif i == ' Often':\n",
    "            new_list.append(3)\n",
    "        elif i == ' Almost Always/Always':\n",
    "            new_list.append(4)\n",
    "    return new_list \n",
    "\n",
    "\n",
    "xconc = conc_to_int(conc)\n",
    "xconc.append(4)\n",
    "test1 = '2020-10-30 04:33:53'\n",
    "xdates.append(test1)"
   ]
  },
  {
   "cell_type": "code",
   "execution_count": 144,
   "metadata": {},
   "outputs": [],
   "source": [
    "#a = set(conc_to_int(conc1))\n",
    "#b = set(conc_to_int(conc2))\n",
    "\n",
    "#if a == b:\n",
    "#    print(\"Lists conc1 and conc2 are equal\")\n",
    "#else:\n",
    "#    print(\"Lists conc1 and conc2 are not equal\")\n"
   ]
  },
  {
   "cell_type": "code",
   "execution_count": 148,
   "metadata": {},
   "outputs": [
    {
     "name": "stdout",
     "output_type": "stream",
     "text": [
      "   concentration                dates short_dates\n",
      "0              3  2020-10-14 01:44:48  2020-10-14\n",
      "1              3  2020-10-14 01:31:05  2020-10-14\n",
      "2              2  2020-10-14 01:18:55  2020-10-14\n",
      "3              3  2020-10-14 01:03:58  2020-10-14\n",
      "4              3  2020-10-14 01:03:58  2020-10-14\n",
      "5              2  2020-10-07 01:31:30  2020-10-07\n",
      "6              3  2020-10-07 01:31:28  2020-10-07\n",
      "7              3  2020-10-07 01:31:26  2020-10-07\n",
      "8              3  2020-10-07 01:31:25  2020-10-07\n",
      "9              3  2020-10-07 01:31:23  2020-10-07\n"
     ]
    }
   ],
   "source": [
    "df = pd.DataFrame({'concentration':xconc, 'dates':xdates})\n",
    "df['short_dates']= df['dates'].str.slice(0,10)\n",
    "print(df.head(10))"
   ]
  },
  {
   "cell_type": "code",
   "execution_count": 153,
   "metadata": {},
   "outputs": [],
   "source": [
    "#Eventually when we have good data from daily surveys, just change dates above to last 7 days.\n",
    "#for now, let's just plot the last 7 data points\n",
    "df = df.sort_values('dates',ascending=False).head(7)\n",
    "df = df.sort_values('dates',ascending=True)"
   ]
  },
  {
   "cell_type": "code",
   "execution_count": 160,
   "metadata": {},
   "outputs": [
    {
     "data": {
      "image/png": "[encoded data removed]",
      "text/plain": [
       "<Figure size 1080x720 with 1 Axes>"
      ]
     },
     "metadata": {
      "needs_background": "light"
     },
     "output_type": "display_data"
    }
   ],
   "source": [
    "from matplotlib.ticker import MaxNLocator\n",
    "\n",
    "output = df.plot.scatter(x='dates', y='concentration', figsize = (15,10),alpha=.3,s=100)\n",
    "plt.xticks(df['dates'],df['short_dates'], fontsize = 11,rotation=45, ha='right')\n",
    "plt.yticks([1,2,3,4],['Rarely/Never', 'Occasionally', 'Often', 'Almost Always/Always'])\n",
    "plt.title('Concentration level on a given date')\n",
    "plt.savefig('concentration.jpg')"
   ]
  },
  {
   "cell_type": "code",
   "execution_count": null,
   "metadata": {},
   "outputs": [],
   "source": [
    "# y_values = [\"word 1\", \"word 2\", \"word 3\", \"word 4\"]\n",
    "# y_axis = np.arange(1, 5, 1)\n",
    "\n",
    "#df.plot.barh('concentration', x_values, align='center')\n",
    "#plt.yticks(y_axis, y_values)\n",
    "#plt.show()"
   ]
  },
  {
   "cell_type": "code",
   "execution_count": null,
   "metadata": {},
   "outputs": [],
   "source": [
    "#https://matplotlib.org/3.3.1/tutorials/colors/colormaps.html\n",
    "#https://matplotlib.org/3.1.0/gallery/color/named_colors.html\n",
    "# fig, ax = plt.subplots(1, 1, figsize=(10, 5))\n",
    "# ax.scatter(xconc1,xconc2, alpha=0.3, c=conc_sum,cmap='viridis')\n",
    "# ax.grid()\n",
    "# ax.set_facecolor(\"aliceblue\")\n",
    "# ax.set_title(\"Concentration for last \"+str(num_days)+\" days\")\n",
    "# ax.set_xlabel(\"Conc1\")\n",
    "# ax.set_ylabel(\"Conc2\")\n",
    "#plt.savefig('conc_'+username+'.jpg')"
   ]
  },
  {
   "cell_type": "code",
   "execution_count": null,
   "metadata": {},
   "outputs": [],
   "source": []
  },
  {
   "cell_type": "code",
   "execution_count": null,
   "metadata": {},
   "outputs": [],
   "source": []
  }
 ],
 "metadata": {
  "kernelspec": {
   "display_name": "Python 3",
   "language": "python",
   "name": "python3"
  },
  "language_info": {
   "codemirror_mode": {
    "name": "ipython",
    "version": 3
   },
   "file_extension": ".py",
   "mimetype": "text/x-python",
   "name": "python",
   "nbconvert_exporter": "python",
   "pygments_lexer": "ipython3",
   "version": "3.8.5"
  }
 },
 "nbformat": 4,
 "nbformat_minor": 2
}
