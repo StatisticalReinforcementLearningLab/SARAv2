{
 "cells": [
  {
   "cell_type": "code",
   "execution_count": 41,
   "metadata": {},
   "outputs": [],
   "source": [
    "import mysql.connector as mysql\n",
    "from datetime import datetime\n",
    "import time\n",
    "import pandas as pd\n",
    "import matplotlib.pyplot as plt\n",
    "import json\n",
    "\n",
    "\n",
    "import matplotlib.dates as mdates"
   ]
  },
  {
   "cell_type": "code",
   "execution_count": 42,
   "metadata": {},
   "outputs": [
    {
     "data": {
      "application/javascript": [
       "//toggle scrolling for jupyter notebooks.\n",
       "IPython.OutputArea.prototype._should_scroll = function(lines) {\n",
       "    return false;\n",
       "}\n"
      ],
      "text/plain": [
       "<IPython.core.display.Javascript object>"
      ]
     },
     "metadata": {},
     "output_type": "display_data"
    }
   ],
   "source": [
    "%%javascript\n",
    "//toggle scrolling for jupyter notebooks.\n",
    "IPython.OutputArea.prototype._should_scroll = function(lines) {\n",
    "    return false;\n",
    "}"
   ]
  },
  {
   "cell_type": "code",
   "execution_count": 43,
   "metadata": {},
   "outputs": [],
   "source": [
    "def getSqlConfigFromJSON(configFileName):\n",
    "    \"\"\"\n",
    "    Loads full mysql connect object from database returns the value as a JSON object. Format of the JSON object \n",
    "    is the following:\n",
    "    \n",
    "        {\n",
    "            \"host\": \"hostname.com\",\n",
    "            \"port\": 99999,\n",
    "            \"user\": \"root\",\n",
    "            \"passwd\": \"passworkd\",\n",
    "            \"database\": \"database_or_schema_name\"\n",
    "        }\n",
    "        \n",
    "    \"\"\"\n",
    "    \n",
    "    with open(configFileName) as f:\n",
    "        mysqlConnectObject = json.load(f)\n",
    "        \n",
    "    return mysqlConnectObject"
   ]
  },
  {
   "cell_type": "code",
   "execution_count": 47,
   "metadata": {},
   "outputs": [
    {
     "name": "stdout",
     "output_type": "stream",
     "text": [
      "d1 = 10/25/2020\n",
      "Fetching data\n",
      "creating data frame\n"
     ]
    },
    {
     "data": {
      "image/png": "[encoded data removed]",
      "text/plain": [
       "<Figure size 1280x320 with 1 Axes>"
      ]
     },
     "metadata": {
      "needs_background": "light"
     },
     "output_type": "display_data"
    }
   ],
   "source": [
    "def getScreenUsageDataFrame(user_id, start_unix_time, end_unix_time):\n",
    "    \"\"\"\n",
    "    Select screen usage data points into the test database.\n",
    "    \"\"\"\n",
    "\n",
    "    print('Fetching data')\n",
    "    \n",
    "    #get sql connect config\n",
    "    mysqlConnectObject = getSqlConfigFromJSON('./awareSqlConfig.json')\n",
    "\n",
    "    # connect to db\n",
    "    db = mysql.connect(\n",
    "        host = mysqlConnectObject[\"host\"],\n",
    "        port = mysqlConnectObject[\"port\"],\n",
    "        user = mysqlConnectObject[\"user\"],\n",
    "        passwd = mysqlConnectObject[\"passwd\"],\n",
    "        database = mysqlConnectObject[\"database\"]\n",
    "    )\n",
    "    cursor = db.cursor()\n",
    "\n",
    "    # fetch data.\n",
    "    where_clause = \"device_id='\" + user_id + \"'\"\n",
    "    where_clause = where_clause + \" AND timestamp > \" + str(start_unix_time) \n",
    "    where_clause = where_clause + \" AND timestamp < \" + str(end_unix_time) \n",
    "    where_clause = \"(\" + where_clause +  \")\"\n",
    "    cursor.execute(\"SELECT * FROM screen where \" + where_clause + \" order by timestamp asc;\")\n",
    "    recordsInScreenTable = cursor.fetchall()\n",
    "\n",
    "    # initialize variables\n",
    "    dateStringForAppUsageList = []\n",
    "    timestampForAppUsageList = []\n",
    "    screenTimeValueList = []\n",
    "    \n",
    "    print('creating data frame')\n",
    "    for row in recordsInScreenTable:\n",
    "        \n",
    "        ts = row[1]/1000 - 7*60*60 #convert to pacific timezone. ToDo: change fixed value.\n",
    "        timestampForAppUsageList.append(ts)\n",
    "        \n",
    "        datetime_ts = datetime.utcfromtimestamp(ts) \n",
    "        dateStringForAppUsageList.append(datetime_ts.strftime('%Y-%m-%d %I:%M:%S %p'))\n",
    "        screenTimeValueList.append(row[3])\n",
    "                \n",
    "    appUsageData = {\n",
    "        'date': dateStringForAppUsageList,\n",
    "        'screenTime': screenTimeValueList   \n",
    "    }\n",
    "    \n",
    "    #-- convert to pandas dataframe, with time based indexing\n",
    "    appUsageDataFrame = pd.DataFrame(appUsageData, columns = ['date','screenTime']) \n",
    "    appUsageDataFrame['date'] = pd.to_datetime(appUsageDataFrame['date'], format='%Y-%m-%d %I:%M:%S %p')\n",
    "    \n",
    "    return appUsageDataFrame\n",
    "\n",
    "\n",
    "user_id = '88315702-a3e6-4296-8437-0a56b4c4f03b'\n",
    "\n",
    "\n",
    "today = datetime.today()\n",
    "s = today.strftime(\"%m/%d/%Y\")\n",
    "print(\"d1 =\", s)\n",
    "end_unix_time = 1000*time.mktime(datetime.strptime(s + \" 04:00 PM\", \"%m/%d/%Y %I:%M %p\").timetuple())\n",
    "start_unix_time = end_unix_time - 20*3600*1000\n",
    "\n",
    "\n",
    "\n",
    "appUsageDataFrame = getScreenUsageDataFrame(user_id, start_unix_time, end_unix_time)\n",
    "\n",
    "\n",
    "\n",
    "fig = plt.figure(figsize=(16, 4), dpi=80)\n",
    "ax = fig.add_subplot(111)\n",
    "myFmt = mdates.DateFormatter('%-I%p')\n",
    "ax.plot(appUsageDataFrame['date'], appUsageDataFrame['screenTime'], '*')\n",
    "ax.xaxis.set_major_formatter(myFmt)"
   ]
  },
  {
   "cell_type": "code",
   "execution_count": 19,
   "metadata": {},
   "outputs": [
    {
     "name": "stdout",
     "output_type": "stream",
     "text": [
      "d1 = 10/25/2020\n",
      "1603630800000.0\n",
      "1603674000000.0\n"
     ]
    }
   ],
   "source": [
    "import time\n",
    "import datetime \n",
    "\n",
    "\n",
    "\n"
   ]
  },
  {
   "cell_type": "code",
   "execution_count": 16,
   "metadata": {},
   "outputs": [
    {
     "data": {
      "text/plain": [
       "43200.0"
      ]
     },
     "execution_count": 16,
     "metadata": {},
     "output_type": "execute_result"
    }
   ],
   "source": []
  },
  {
   "cell_type": "code",
   "execution_count": 17,
   "metadata": {},
   "outputs": [
    {
     "data": {
      "text/plain": [
       "12.0"
      ]
     },
     "execution_count": 17,
     "metadata": {},
     "output_type": "execute_result"
    }
   ],
   "source": []
  },
  {
   "cell_type": "code",
   "execution_count": null,
   "metadata": {},
   "outputs": [],
   "source": []
  }
 ],
 "metadata": {
  "kernelspec": {
   "display_name": "Python 3",
   "language": "python",
   "name": "python3"
  },
  "language_info": {
   "codemirror_mode": {
    "name": "ipython",
    "version": 3
   },
   "file_extension": ".py",
   "mimetype": "text/x-python",
   "name": "python",
   "nbconvert_exporter": "python",
   "pygments_lexer": "ipython3",
   "version": "3.7.7"
  }
 },
 "nbformat": 4,
 "nbformat_minor": 4
}
